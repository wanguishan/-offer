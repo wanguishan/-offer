{
 "cells": [
  {
   "cell_type": "markdown",
   "metadata": {},
   "source": [
    "- 输入一个整型数组，数组里有正数也有负数。数组中的一个或连续多个整数组成一个子数组。求所有子数组的和的最大值。要求时间复杂度为O(n)。"
   ]
  },
  {
   "cell_type": "code",
   "execution_count": 7,
   "metadata": {},
   "outputs": [],
   "source": [
    "# -*- coding:utf-8 -*-\n",
    "class Solution:\n",
    "    def FindGreatestSumOfSubArray(self, array):\n",
    "        # write code here\n",
    "        curSum = maxSum = array[0]\n",
    "        for i in array[1:]:\n",
    "            curSum = max(curSum+i, i)\n",
    "            maxSum = max(maxSum, curSum)\n",
    "        return maxSum\n",
    "    \n",
    "    def FindGreatestSumOfSubArray_2(self, array):\n",
    "        \"\"\"动态规划\"\"\"\n",
    "        for i in range(1, len(array)):\n",
    "            if array[i-1] > 0:\n",
    "                array[i] += array[i-1]\n",
    "        print(array)\n",
    "        return max(array)"
   ]
  },
  {
   "cell_type": "code",
   "execution_count": 8,
   "metadata": {},
   "outputs": [
    {
     "name": "stdout",
     "output_type": "stream",
     "text": [
      "18\n",
      "[1, -1, 3, 13, 9, 16, 18, 13]\n",
      "18\n"
     ]
    }
   ],
   "source": [
    "print(Solution().FindGreatestSumOfSubArray([1, -2, 3, 10, -4, 7, 2, -5]))\n",
    "print(Solution().FindGreatestSumOfSubArray_2([1, -2, 3, 10, -4, 7, 2, -5]))"
   ]
  }
 ],
 "metadata": {
  "kernelspec": {
   "display_name": "Python 3",
   "language": "python",
   "name": "python3"
  },
  "language_info": {
   "codemirror_mode": {
    "name": "ipython",
    "version": 3
   },
   "file_extension": ".py",
   "mimetype": "text/x-python",
   "name": "python",
   "nbconvert_exporter": "python",
   "pygments_lexer": "ipython3",
   "version": "3.6.4"
  }
 },
 "nbformat": 4,
 "nbformat_minor": 2
}
