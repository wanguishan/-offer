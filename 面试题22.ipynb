{
 "cells": [
  {
   "cell_type": "markdown",
   "metadata": {},
   "source": [
    "## 链表中倒数第k个节点\n",
    "- 输入一个链表，输出该链表中倒数第k个节点。\n",
    "\n",
    "思路：为了实现只遍历链表一次就能找到倒数第k个节点，我们可以定义两个指针。让第一个指针先向前走k-1步，第二个指针保持不动；从第k步开始，第二个指针也开始从链表的头指针开始遍历。由于两个指针的距离保持在k-1,当第一个指针到达链表的尾节点时，第二个指针刚好到达倒数第k个节点。"
   ]
  },
  {
   "cell_type": "code",
   "execution_count": 1,
   "metadata": {},
   "outputs": [],
   "source": [
    "class ListNode():\n",
    "    def __init__(self, x):\n",
    "        self.val = x\n",
    "        self.next = None"
   ]
  },
  {
   "cell_type": "code",
   "execution_count": null,
   "metadata": {},
   "outputs": [],
   "source": [
    "class Solution():\n",
    "    def FindKthToTail(self, head, k):\n",
    "        \"\"\"\n",
    "        利用python的列表\n",
    "        \"\"\"\n",
    "        res = []\n",
    "        while head:\n",
    "            res.append(head)\n",
    "            head = head.next\n",
    "        if k > len(res) or k <1:\n",
    "            return \n",
    "        return res[-k]\n",
    "    \n",
    "    \n",
    "    def FindKthToTail_2(self, head, k):\n",
    "        \"\"\"\n",
    "        双指针\n",
    "        \"\"\"\n",
    "        if head ==None or k < 1:\n",
    "            return\n",
    "        \n",
    "        ## 设置两个指针，p2先走（k-1）步，然后再一起走，当p2到尾节点时，p1即为所求节点\n",
    "        p1 = head\n",
    "        p2 = head\n",
    "        \n",
    "        ## p2先走k-1，如果k大于链表长度，则返回None，否则的话继续往前走\n",
    "        for i in range(k-1):\n",
    "            if p2.next:\n",
    "                p2 = p2.next\n",
    "            else:\n",
    "                return None\n",
    "            \n",
    "        ## 两个指针一起走，直到p2到达尾节点\n",
    "        while p2.next != None:\n",
    "            p1 = p1.next\n",
    "            p2 = p2.next\n",
    "        return p1"
   ]
  }
 ],
 "metadata": {
  "kernelspec": {
   "display_name": "Python 3",
   "language": "python",
   "name": "python3"
  },
  "language_info": {
   "codemirror_mode": {
    "name": "ipython",
    "version": 3
   },
   "file_extension": ".py",
   "mimetype": "text/x-python",
   "name": "python",
   "nbconvert_exporter": "python",
   "pygments_lexer": "ipython3",
   "version": "3.6.4"
  }
 },
 "nbformat": 4,
 "nbformat_minor": 2
}
