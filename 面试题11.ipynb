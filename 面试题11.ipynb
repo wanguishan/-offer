{
 "cells": [
  {
   "cell_type": "markdown",
   "metadata": {},
   "source": [
    "## 旋转数组的最小数字\n",
    "- 把一个数组最开始的若干个元素搬到数组的末尾，我们称之为数组的旋转。 输入一个非减排序的数组的一个旋转，输出旋转数组的最小元素。 \n",
    "\n",
    "例如数组{3,4,5,1,2}为{1,2,3,4,5}的一个旋转，该数组的最小值为1。 \n",
    "\n",
    "NOTE：给出的所有元素都大于0，若数组大小为0，请返回0。"
   ]
  },
  {
   "cell_type": "code",
   "execution_count": 3,
   "metadata": {},
   "outputs": [],
   "source": [
    "class Solution:\n",
    "    def minNumberInRotateArray(self, rotateArray):\n",
    "        if not rotateArray:                 # 判断输入数组是否为空\n",
    "            return 'Invalid parameters'\n",
    "        \n",
    "        index1, index2 = 0, len(rotateArray)-1    #定义两个分别指向头、尾的指针\n",
    "        indexMid = index1\n",
    "        while (rotateArray[index1] >= rotateArray[index2]):\n",
    "            if index2 - index1 ==1:    #当两个指针的距离是1，返回尾指针\n",
    "                indexMid = index2\n",
    "                break\n",
    "            else:\n",
    "                indexMid = (index1+index2) // 2\n",
    "            if rotateArray[index1] == rotateArray[indexMid] == rotateArray[index2]:    #考虑三个指针指向的数字相同时\n",
    "                return self.minValue(rotateArray, index1, index2)       #必须采用暴力查找法（顺序查找法）\n",
    "            if rotateArray[indexMid] >= rotateArray[index1]:\n",
    "                index1 = indexMid\n",
    "            if rotateArray[indexMid] <= rotateArray[index2]:\n",
    "                index2 = indexMid\n",
    "        return rotateArray[indexMid]\n",
    "    \n",
    "    def minValue(self, rotateArray, index1, index2):\n",
    "        \"\"\"\n",
    "        暴力（顺序）排序法\n",
    "        \"\"\"\n",
    "        result = rotateArray[index1]\n",
    "        for i in range(index1+1, index2+1):\n",
    "            if result > rotateArray[i]:\n",
    "                result = rotateArray[i]\n",
    "            return result  "
   ]
  },
  {
   "cell_type": "code",
   "execution_count": 5,
   "metadata": {},
   "outputs": [
    {
     "name": "stdout",
     "output_type": "stream",
     "text": [
      "1\n",
      "0\n"
     ]
    }
   ],
   "source": [
    "if __name__ == '__main__':\n",
    "    s = Solution()\n",
    "    print(s.minNumberInRotateArray([3,4,5,1,2]))\n",
    "    print(s.minNumberInRotateArray([1,0,1,1,1]))"
   ]
  }
 ],
 "metadata": {
  "kernelspec": {
   "display_name": "Python 3",
   "language": "python",
   "name": "python3"
  },
  "language_info": {
   "codemirror_mode": {
    "name": "ipython",
    "version": 3
   },
   "file_extension": ".py",
   "mimetype": "text/x-python",
   "name": "python",
   "nbconvert_exporter": "python",
   "pygments_lexer": "ipython3",
   "version": "3.6.4"
  }
 },
 "nbformat": 4,
 "nbformat_minor": 2
}
