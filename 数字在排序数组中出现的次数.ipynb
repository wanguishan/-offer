{
 "cells": [
  {
   "cell_type": "markdown",
   "metadata": {},
   "source": [
    "- 统计一个数字在排序数组中出现的次数。"
   ]
  },
  {
   "cell_type": "code",
   "execution_count": 1,
   "metadata": {},
   "outputs": [],
   "source": [
    "# -*- coding:utf-8 -*-\n",
    "class Solution:\n",
    "    def GetNumberOfK(self, data, k):\n",
    "        # write code here\n",
    "        \"\"\"\n",
    "        时间复杂度 O(log2n)\n",
    "        空间复杂度 O(1)\n",
    "        \"\"\"\n",
    "        start, end = 0, len(data)-1\n",
    "        first = self.GetFirstK(data, k, start, end)\n",
    "        last = self.GetLastK(data, k, start, end)\n",
    "        return last - first + 1\n",
    "        \n",
    "    def GetFirstK(self, data, k, start, end):\n",
    "        mid = (start + end) // 2\n",
    "        while start <= end:\n",
    "            if data[mid] < k:\n",
    "                start = mid +1\n",
    "            else:\n",
    "                end = mid -1\n",
    "            mid = (start + end) // 2\n",
    "        return start\n",
    "    \n",
    "    def GetLastK(self, data, k, start, end):\n",
    "        mid = (start + end) // 2\n",
    "        while start <= end:\n",
    "            if data[mid] <= k:\n",
    "                start = mid +1\n",
    "            else:\n",
    "                end = mid -1\n",
    "            mid = (start + end) // 2\n",
    "        return end"
   ]
  },
  {
   "cell_type": "code",
   "execution_count": null,
   "metadata": {},
   "outputs": [],
   "source": [
    "class Solution:\n",
    "    def GetNumberOfK(self, data, k):\n",
    "        \"\"\"\n",
    "        时间复杂度 O(n)\n",
    "        空间复杂度 O(n)\n",
    "        \"\"\"\n",
    "        if not data:\n",
    "            return 0\n",
    "        count_data = {}\n",
    "        for num in data:\n",
    "            count_data[num] = count_data.get(num, 0) + 1        \n",
    "        return count_data.get(k, 0)"
   ]
  }
 ],
 "metadata": {
  "kernelspec": {
   "display_name": "Python 3",
   "language": "python",
   "name": "python3"
  },
  "language_info": {
   "codemirror_mode": {
    "name": "ipython",
    "version": 3
   },
   "file_extension": ".py",
   "mimetype": "text/x-python",
   "name": "python",
   "nbconvert_exporter": "python",
   "pygments_lexer": "ipython3",
   "version": "3.6.4"
  }
 },
 "nbformat": 4,
 "nbformat_minor": 2
}
