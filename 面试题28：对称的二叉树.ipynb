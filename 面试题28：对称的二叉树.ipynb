{
 "cells": [
  {
   "cell_type": "markdown",
   "metadata": {},
   "source": [
    "- 请实现一个函数，用来判断一颗二叉树是不是对称的。注意，如果一个二叉树同此二叉树的镜像是同样的，定义其为对称的。"
   ]
  },
  {
   "cell_type": "code",
   "execution_count": null,
   "metadata": {},
   "outputs": [],
   "source": [
    "# class TreeNode:\n",
    "#     def __init__(self, x):\n",
    "#         self.val = x\n",
    "#         self.left = None\n",
    "#         self.right = None\n",
    "\n",
    "class Solution:\n",
    "    def isSymmetrical(self, pRoot):\n",
    "        \"\"\"递归\"\"\"\n",
    "        if not pRoot:\n",
    "            return True\n",
    "        return self.isMirror(pRoot.left, pRoot.right)\n",
    "    \n",
    "    def isMirror(self, left, right):\n",
    "        if not left and not right:\n",
    "            return True\n",
    "        elif left and right and left.val == right.val:\n",
    "            outer = self.isMirror(left.left, right.right)\n",
    "            inner = self.isMirror(left.right, right.left)\n",
    "            return outer and inner\n",
    "        else:\n",
    "            return False\n",
    "        \n",
    "    def isSymmetrical_2(self, pRoot):  \n",
    "        \"\"\"迭代\"\"\"\n",
    "        if not pRoot:\n",
    "            return True\n",
    "        stack = [[pRoot.left, pRoot.right]]\n",
    "        while stack:\n",
    "            left, right = stack.pop()\n",
    "            if not left and not right:\n",
    "                continue\n",
    "            elif left and right and left.val == right.val:\n",
    "                stack.append([left.left, right.right])\n",
    "                stack.append([left.right, right.left])\n",
    "            else:\n",
    "                return False\n",
    "        return True        "
   ]
  }
 ],
 "metadata": {
  "kernelspec": {
   "display_name": "Python 3",
   "language": "python",
   "name": "python3"
  },
  "language_info": {
   "codemirror_mode": {
    "name": "ipython",
    "version": 3
   },
   "file_extension": ".py",
   "mimetype": "text/x-python",
   "name": "python",
   "nbconvert_exporter": "python",
   "pygments_lexer": "ipython3",
   "version": "3.6.4"
  }
 },
 "nbformat": 4,
 "nbformat_minor": 2
}
