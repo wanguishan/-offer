{
 "cells": [
  {
   "cell_type": "markdown",
   "metadata": {},
   "source": [
    "## 反转链表\n",
    "- 定义一个函数，输入一个链表的头节点，反转该链表并输出反转后链表的头节点。"
   ]
  },
  {
   "cell_type": "code",
   "execution_count": 2,
   "metadata": {},
   "outputs": [],
   "source": [
    "class ListNode():\n",
    "    def __init__(self, x):\n",
    "        self.val = x\n",
    "        self.next = next            "
   ]
  },
  {
   "cell_type": "code",
   "execution_count": 3,
   "metadata": {},
   "outputs": [],
   "source": [
    "class Solution():\n",
    "    def ReverseList(self, pHead):\n",
    "        if not pHead or not pHead.next:\n",
    "            return pHead\n",
    "        \n",
    "        pLast = None\n",
    "        while pHead:\n",
    "            temp = pHead.next\n",
    "            pHead.next = pLast\n",
    "            pLast = pHead\n",
    "            pHead = temp\n",
    "        return pLast"
   ]
  }
 ],
 "metadata": {
  "kernelspec": {
   "display_name": "Python 3",
   "language": "python",
   "name": "python3"
  },
  "language_info": {
   "codemirror_mode": {
    "name": "ipython",
    "version": 3
   },
   "file_extension": ".py",
   "mimetype": "text/x-python",
   "name": "python",
   "nbconvert_exporter": "python",
   "pygments_lexer": "ipython3",
   "version": "3.6.4"
  }
 },
 "nbformat": 4,
 "nbformat_minor": 2
}
