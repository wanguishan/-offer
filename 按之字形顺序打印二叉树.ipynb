{
 "cells": [
  {
   "cell_type": "markdown",
   "metadata": {},
   "source": [
    "- 请实现一个函数按照之字形打印二叉树，即第一行按照从左到右的顺序打印，第二层按照从右至左的顺序打印，第三行按照从左到右的顺序打印，其他行以此类推。"
   ]
  },
  {
   "cell_type": "code",
   "execution_count": 1,
   "metadata": {},
   "outputs": [],
   "source": [
    "class TreeNode:\n",
    "    def __init__(self, x):\n",
    "        self.val = x\n",
    "        self.left = None\n",
    "        self.right = None\n",
    "        \n",
    "class Solution:\n",
    "    def Print(self, pRoot):    \n",
    "        if not pRoot:\n",
    "            return []\n",
    "        res = []\n",
    "        stack = [pRoot]\n",
    "        sign = -1\n",
    "        while stack:\n",
    "            sign *= -1\n",
    "            res.append([node.val for node in stack[::sign]])\n",
    "            tmp_stack = []\n",
    "            for node in stack:\n",
    "                if node.left:\n",
    "                    tmp_stack.append(node.left)\n",
    "                if node.right:\n",
    "                    tmp_stack.append(node.right)\n",
    "            stack = tmp_stack\n",
    "        return res"
   ]
  },
  {
   "cell_type": "code",
   "execution_count": 2,
   "metadata": {},
   "outputs": [
    {
     "name": "stdout",
     "output_type": "stream",
     "text": [
      "[[1], [3, 2], [4, 5, 6, 7], [9, 8]]\n"
     ]
    }
   ],
   "source": [
    "if __name__ == '__main__':\n",
    "    t1, t2, t3, t4, t5, t6, t7, t8, t9 = TreeNode(1), TreeNode(2), TreeNode(3), TreeNode(4), TreeNode(5), \\\n",
    "                                                    TreeNode(6), TreeNode(7), TreeNode(8), TreeNode(9)\n",
    "    t1.left, t1.right = t2, t3\n",
    "    t2.left, t2.right = t4, t5\n",
    "    t3.left, t3.right = t6, t7\n",
    "    t5.right = t8\n",
    "    t7.left = t9\n",
    "    \n",
    "    s = Solution()\n",
    "    print(s.Print(t1))"
   ]
  }
 ],
 "metadata": {
  "kernelspec": {
   "display_name": "Python 3",
   "language": "python",
   "name": "python3"
  },
  "language_info": {
   "codemirror_mode": {
    "name": "ipython",
    "version": 3
   },
   "file_extension": ".py",
   "mimetype": "text/x-python",
   "name": "python",
   "nbconvert_exporter": "python",
   "pygments_lexer": "ipython3",
   "version": "3.6.4"
  }
 },
 "nbformat": 4,
 "nbformat_minor": 2
}
