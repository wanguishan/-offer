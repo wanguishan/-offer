{
 "cells": [
  {
   "cell_type": "markdown",
   "metadata": {},
   "source": [
    "## 两个链表的第一个公共节点\n",
    "- 输入两个链表，找出它们的第一个公共节点。"
   ]
  },
  {
   "cell_type": "raw",
   "metadata": {},
   "source": [
    "思路一：两条相交的链表呈Y型。可以从两条链表尾部同时出发，最后一个相同的结点就是链表的第一个相同的结点。可以利用栈来实现，时间复杂度有O(m + n), 空间复杂度为O(m + n)。"
   ]
  },
  {
   "cell_type": "code",
   "execution_count": 1,
   "metadata": {},
   "outputs": [],
   "source": [
    "class ListNode():\n",
    "    def __init__(self, x):\n",
    "        self.val = x\n",
    "        self.next = None\n",
    "        \n",
    "class Solution():\n",
    "    def FindFirstCommonNode(self, pHead1, pHead2):\n",
    "        if not pHead1 or not pHead2:\n",
    "            return\n",
    "        stack1 = []\n",
    "        stack2 = []\n",
    "        while pHead1:\n",
    "            stack1.append(pHead1)\n",
    "            pHead1 = pHead1.next\n",
    "        while pHead2:\n",
    "            stack2.append(pHead2)\n",
    "            pHead2 = pHead2.next\n",
    "            \n",
    "        first = None\n",
    "        while stack1 and stack2:\n",
    "            top1 = stack1.pop()\n",
    "            top2 = stack2.pop()\n",
    "            if top1 is top2:\n",
    "                first = top1\n",
    "            else:\n",
    "                break\n",
    "        return first\n",
    "    \n",
    "    \n",
    "    def FindFirstCommonNode_2(self, pHead1, pHead2):  \n",
    "        if not pHead1 or not pHead2:\n",
    "            return         \n",
    "        nodeList = set()\n",
    "        while pHead1:\n",
    "            nodeList.add(pHead1)\n",
    "            pHead1 = pHead1.next\n",
    "        while pHead2:\n",
    "            if pHead2 in nodeList:\n",
    "                return pHead2\n",
    "            else:\n",
    "                pHead2 = pHead2.next"
   ]
  },
  {
   "cell_type": "raw",
   "metadata": {},
   "source": [
    "思路二：\n",
    "思路一利用栈主要解决就是同时到达第一个结点的问题。那么从链表头出发如何同时到达第一个相同的结点呢? 链表的长度相同就可以，其实就是走的结点数目相同。所以可以让其中长的链表先走几步，剩余的长度和短链表的长度相同，接着同时在两链表遍历，找到第一个相同的节点就是它们的第一个公共节点。时空复杂度都是O(m+n)，但不在需要辅助栈，提高了空间效率。"
   ]
  },
  {
   "cell_type": "code",
   "execution_count": null,
   "metadata": {},
   "outputs": [],
   "source": [
    "class Solution():\n",
    "    def FindFirstCommonNode(self, pHead1, pHead2):  \n",
    "        length1 = self.GetListLength(pHead1)\n",
    "        length2 = self.GetListLength(pHead2)        \n",
    "        if length1 > length2:\n",
    "            headLong = pHead1\n",
    "            headShort = pHead2\n",
    "        else:\n",
    "            headLong = pHead2\n",
    "            headShort = pHead1    \n",
    "        diff = length1 - length2 if length1>length2 else length2-length1\n",
    "        \n",
    "        for i in range(diff):\n",
    "            headLong = headLong.next\n",
    "            \n",
    "        while headLong != None and headShort != None and headLong != headShort:\n",
    "            headLong = headLong.next\n",
    "            headShort = headShort.next\n",
    "        return headLong\n",
    "        \n",
    "    def GetListLength(self, pHead):\n",
    "        length = 0\n",
    "        while pHead:\n",
    "            length += 1\n",
    "            pHead = pHead.next\n",
    "        return length"
   ]
  }
 ],
 "metadata": {
  "kernelspec": {
   "display_name": "Python 3",
   "language": "python",
   "name": "python3"
  },
  "language_info": {
   "codemirror_mode": {
    "name": "ipython",
    "version": 3
   },
   "file_extension": ".py",
   "mimetype": "text/x-python",
   "name": "python",
   "nbconvert_exporter": "python",
   "pygments_lexer": "ipython3",
   "version": "3.6.4"
  }
 },
 "nbformat": 4,
 "nbformat_minor": 2
}
