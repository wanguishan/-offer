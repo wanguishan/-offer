{
 "cells": [
  {
   "cell_type": "markdown",
   "metadata": {},
   "source": [
    "- 将一个字符串转换成一个整数(实现Integer.valueOf(string)的功能，但是string不符合数字要求时返回0)，要求不能使用字符串转换整数的库函数。 数值为0或者字符串不是一个合法的数值则返回0。"
   ]
  },
  {
   "cell_type": "code",
   "execution_count": 1,
   "metadata": {},
   "outputs": [],
   "source": [
    "# -*- coding:utf-8 -*-\n",
    "class Solution:\n",
    "    def StrToInt(self, s):\n",
    "        # write code here\n",
    "        try:\n",
    "            return int(s)\n",
    "        except:\n",
    "            return 0"
   ]
  },
  {
   "cell_type": "code",
   "execution_count": null,
   "metadata": {},
   "outputs": [],
   "source": [
    "# -*- coding:utf-8 -*-\n",
    "class Solution:\n",
    "    def StrToInt(self, s):\n",
    "        # write code here\n",
    "        List = ['0', '1', '2', '3', '4', '5', '6', '7', '8', '9']\n",
    "        res = 0\n",
    "        sign = 1\n",
    "        for i in range(len(s)):\n",
    "            if i == 0:\n",
    "                if s[i] == '+':\n",
    "                    continue\n",
    "                if s[i] == '-':\n",
    "                    sign = -1\n",
    "                    continue\n",
    "            if s[i] not in List:\n",
    "                res = 0\n",
    "                break\n",
    "            else:\n",
    "                res = res*10 + List.index(s[i])\n",
    "                ## res += int(s[i]) * 10**(len(s)-1-i)\n",
    "        return res*sign"
   ]
  }
 ],
 "metadata": {
  "kernelspec": {
   "display_name": "Python 3",
   "language": "python",
   "name": "python3"
  },
  "language_info": {
   "codemirror_mode": {
    "name": "ipython",
    "version": 3
   },
   "file_extension": ".py",
   "mimetype": "text/x-python",
   "name": "python",
   "nbconvert_exporter": "python",
   "pygments_lexer": "ipython3",
   "version": "3.6.4"
  }
 },
 "nbformat": 4,
 "nbformat_minor": 2
}
