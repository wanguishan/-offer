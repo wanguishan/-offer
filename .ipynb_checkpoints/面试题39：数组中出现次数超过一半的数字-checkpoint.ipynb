{
 "cells": [
  {
   "cell_type": "markdown",
   "metadata": {},
   "source": [
    "## 数组中出现次数超过一半的数字\n",
    "- 数组中有一个数字出现的次数超过数组长度的一半，请找出这个数字。例如输入一个长度为9的数组{1,2,3,2,2,2,5,4,2}。由于数字2在数组中出现了5次，超过数组长度的一半，因此输出2。如果不存在则输出0。"
   ]
  },
  {
   "cell_type": "code",
   "execution_count": 1,
   "metadata": {},
   "outputs": [],
   "source": [
    "class Solution:\n",
    "    def MoreThanHalfNum_Solution(self, numbers):\n",
    "        dic = {}\n",
    "        for num in numbers:\n",
    "            dic[num] = dic.get(num, 0) + 1\n",
    "        for key, value in dic.items():\n",
    "            if value > len(numbers)//2:\n",
    "                return key\n",
    "        return 0"
   ]
  },
  {
   "cell_type": "code",
   "execution_count": 2,
   "metadata": {},
   "outputs": [
    {
     "name": "stdout",
     "output_type": "stream",
     "text": [
      "2\n"
     ]
    }
   ],
   "source": [
    "print(Solution().MoreThanHalfNum_Solution([1,2,3,2,2,2,5,4,2]))"
   ]
  },
  {
   "cell_type": "code",
   "execution_count": 17,
   "metadata": {},
   "outputs": [],
   "source": [
    "class Solution:\n",
    "    def MoreThanHalfNum_Solution(self, numbers):\n",
    "        if not numbers or len(numbers) <= 0:\n",
    "            return 0\n",
    "        res = numbers[0]\n",
    "        times = 1\n",
    "        for i in numbers[1:]:\n",
    "            if times == 0:\n",
    "                res = i\n",
    "                times = 1\n",
    "            elif i == res:\n",
    "                times += 1\n",
    "            else:\n",
    "                times -= 1\n",
    "        if self.CheckMoreThanHalf(numbers, res):\n",
    "            return res\n",
    "        return 0\n",
    "                \n",
    "    def CheckMoreThanHalf(self, numbers, num):\n",
    "        count = 0\n",
    "        for i in numbers:\n",
    "            if i == num:\n",
    "                count += 1\n",
    "        if count * 2 > len(numbers):\n",
    "            return True\n",
    "        return False"
   ]
  },
  {
   "cell_type": "code",
   "execution_count": 18,
   "metadata": {},
   "outputs": [
    {
     "name": "stdout",
     "output_type": "stream",
     "text": [
      "2\n"
     ]
    }
   ],
   "source": [
    "print(Solution().MoreThanHalfNum_Solution([1,2,3,2,2,2,5,4,2]))"
   ]
  }
 ],
 "metadata": {
  "kernelspec": {
   "display_name": "Python 3",
   "language": "python",
   "name": "python3"
  },
  "language_info": {
   "codemirror_mode": {
    "name": "ipython",
    "version": 3
   },
   "file_extension": ".py",
   "mimetype": "text/x-python",
   "name": "python",
   "nbconvert_exporter": "python",
   "pygments_lexer": "ipython3",
   "version": "3.6.4"
  }
 },
 "nbformat": 4,
 "nbformat_minor": 2
}
