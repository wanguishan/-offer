{
 "cells": [
  {
   "cell_type": "markdown",
   "metadata": {},
   "source": [
    "## 斐波那契数列\n",
    "- 求斐波那契数列的第n项。\n",
    "\n",
    "    - n=0时，f(n)=0 \n",
    "    - n=1时，f(n)=1\n",
    "    - n>1时，f(n)=f(n-1)+f(n-2)"
   ]
  },
  {
   "cell_type": "code",
   "execution_count": 4,
   "metadata": {},
   "outputs": [],
   "source": [
    "class Solution:\n",
    "    def Fibonacci(self, n):\n",
    "        \"\"\"\n",
    "        循环解法，效率高，推荐使用\n",
    "        \"\"\"\n",
    "        a = [0, 1, 1]\n",
    "        if n < 0:\n",
    "            return None\n",
    "        elif n < 3:\n",
    "            return a[n]\n",
    "        else:\n",
    "            for i in range(3, n+1):\n",
    "                a.append(a[i-1] + a[i-2])\n",
    "            return a[n]      \n",
    "        \n",
    "    def Fibonacci_1(self, n):\n",
    "        \"\"\"\n",
    "        方法同上，代码更简单\n",
    "        \"\"\"\n",
    "        f0, f1 = 0, 1\n",
    "        for i in range(n):\n",
    "            f0, f1 = f1, f0 + f1\n",
    "        return f0      \n",
    "    \n",
    "    def Fibonacci_recursion(self, n):\n",
    "        \"\"\"\n",
    "        递归解法，效率太低，不建议使用\n",
    "        \"\"\"\n",
    "        if n <= 0:\n",
    "            return 0\n",
    "        elif n == 1:\n",
    "            return 1\n",
    "        else:\n",
    "            return self.Fibonacci(n-1) + self.Fibonacci(n-2)"
   ]
  },
  {
   "cell_type": "markdown",
   "metadata": {},
   "source": [
    "#### 青蛙跳台阶问题\n",
    "- 一只青蛙一次可以跳上1级台阶，也可以跳上2级台阶。求该青蛙跳上一个n级的台阶总共用多少种跳法。"
   ]
  },
  {
   "cell_type": "code",
   "execution_count": 11,
   "metadata": {},
   "outputs": [],
   "source": [
    "class Solution:\n",
    "    def jumpFloor(self, number):\n",
    "        a, b =1, 1\n",
    "        for i in range(number):\n",
    "            a, b = b, a+b\n",
    "        return a"
   ]
  },
  {
   "cell_type": "markdown",
   "metadata": {},
   "source": [
    "#### 变态跳台阶问题\n",
    "- 一只青蛙一次可以跳上1级台阶，也可以跳上2级台阶……也可以跳上n级。求该青蛙跳上一个n级的台阶总共用多少种跳法。"
   ]
  },
  {
   "cell_type": "code",
   "execution_count": 12,
   "metadata": {},
   "outputs": [],
   "source": [
    "class Solution:\n",
    "    def jumpFloorII(self, number):\n",
    "        if number<=0:\n",
    "            return 0\n",
    "        else:\n",
    "            return 2**(number-1)       ## return pow(2, number-1) "
   ]
  },
  {
   "cell_type": "markdown",
   "metadata": {},
   "source": [
    "#### 矩形覆盖\n",
    "- 我们可以用2\\*1的小矩形横着或者竖着去覆盖更大的矩形。请问用n个2\\*1的小矩形无重叠地覆盖一个2*n的大矩形，总共有多少种方法？ "
   ]
  },
  {
   "cell_type": "code",
   "execution_count": 15,
   "metadata": {},
   "outputs": [],
   "source": [
    "class Solution:\n",
    "    def rectCover(self, number):\n",
    "        if number <= 2:\n",
    "            return number\n",
    "        \n",
    "        a, b = 1, 2\n",
    "        for i in range(2, number):\n",
    "            a, b = b, a+b\n",
    "        return b           "
   ]
  }
 ],
 "metadata": {
  "kernelspec": {
   "display_name": "Python 3",
   "language": "python",
   "name": "python3"
  },
  "language_info": {
   "codemirror_mode": {
    "name": "ipython",
    "version": 3
   },
   "file_extension": ".py",
   "mimetype": "text/x-python",
   "name": "python",
   "nbconvert_exporter": "python",
   "pygments_lexer": "ipython3",
   "version": "3.6.4"
  }
 },
 "nbformat": 4,
 "nbformat_minor": 2
}
