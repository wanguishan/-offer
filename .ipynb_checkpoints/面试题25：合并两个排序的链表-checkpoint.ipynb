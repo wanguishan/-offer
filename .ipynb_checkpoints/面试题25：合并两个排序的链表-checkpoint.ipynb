{
 "cells": [
  {
   "cell_type": "markdown",
   "metadata": {},
   "source": [
    "## 合并两个排序的链表\n",
    "- 输入两个递增排序的链表，合并这两个链表并使新链表中的节点仍然是递增排序的。"
   ]
  },
  {
   "cell_type": "code",
   "execution_count": 3,
   "metadata": {},
   "outputs": [],
   "source": [
    "class ListNode():\n",
    "    def __init__(self, x):\n",
    "        self.val = x\n",
    "        self.next = None\n",
    "        \n",
    "class Solution():\n",
    "    def Merge(self, pHead1, pHead2):\n",
    "        \"\"\"\n",
    "        递归\n",
    "        \"\"\"\n",
    "        if not pHead1:\n",
    "            return pHead2\n",
    "        elif not pHead2:\n",
    "            return pHead1\n",
    "        \n",
    "        pMergeHead = None\n",
    "        if pHead1.val < pHead2.val:\n",
    "            pMergeHead = pHead1\n",
    "            pMergeHead.next = self.Merge(pHead1.next, pHead2)\n",
    "        else:\n",
    "            pMergeHead = pHead2\n",
    "            pMergeHead.next = self.Merge(pHead1, pHead2.next)\n",
    "        \n",
    "        return pMergeHead\n",
    "        \n",
    "    \n",
    "    def Merge_2(self, pHead1, pHead2):\n",
    "        \"\"\"\n",
    "        利用python列表，先排序后输出链表形式\n",
    "        \"\"\"\n",
    "        res = []\n",
    "        while pHead1:\n",
    "            res.append(pHead1.val)\n",
    "            pHead1 = pHead1.next\n",
    "        while pHead2:\n",
    "            res.append(pHead2.val)\n",
    "            pHead2 = pHead2.next\n",
    "        res.sort()\n",
    "        \n",
    "        dummy = ListNode(0)\n",
    "        pre = dummy\n",
    "        for i in res:\n",
    "            node = ListNode(i)\n",
    "            pre.next = node\n",
    "            pre = pre.next\n",
    "        return dummy.next\n",
    "            \n",
    "        "
   ]
  }
 ],
 "metadata": {
  "kernelspec": {
   "display_name": "Python 3",
   "language": "python",
   "name": "python3"
  },
  "language_info": {
   "codemirror_mode": {
    "name": "ipython",
    "version": 3
   },
   "file_extension": ".py",
   "mimetype": "text/x-python",
   "name": "python",
   "nbconvert_exporter": "python",
   "pygments_lexer": "ipython3",
   "version": "3.6.4"
  }
 },
 "nbformat": 4,
 "nbformat_minor": 2
}
