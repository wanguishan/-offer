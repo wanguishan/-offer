{
 "cells": [
  {
   "cell_type": "markdown",
   "metadata": {},
   "source": [
    "- 在数组中的两个数字，如果前面一个数字大于后面的数字，则这两个数字组成一个逆序对。输入一个数组，求出这个数组中的逆序对的总数。例如，在数组[7, 5, 6, 4]中，一共存在5个逆序对，分别是（7,6）、（7,5）、（7,4）、（6,4）和（5,4）。"
   ]
  },
  {
   "cell_type": "code",
   "execution_count": 1,
   "metadata": {},
   "outputs": [],
   "source": [
    "class Solution:\n",
    "    def InversePairs(self, data):   \n",
    "        \"\"\"\n",
    "        >时间复杂度O(nlogn)\n",
    "        >空间复杂度O(n)\n",
    "        \"\"\"\n",
    "        copy = data[:]    # copy = data.copy()\n",
    "        copy.sort()        \n",
    "        count = 0\n",
    "        for num in copy:\n",
    "            count += data.index(num)\n",
    "            data.remove(num)  \n",
    "        return count % 1000000007"
   ]
  },
  {
   "cell_type": "code",
   "execution_count": 2,
   "metadata": {},
   "outputs": [
    {
     "name": "stdout",
     "output_type": "stream",
     "text": [
      "7\n",
      "5\n",
      "0\n"
     ]
    }
   ],
   "source": [
    "print(Solution().InversePairs([1,2,3,4,5,6,7,0]))\n",
    "print(Solution().InversePairs([7,5,6,4]))\n",
    "print(Solution().InversePairs([7]))"
   ]
  }
 ],
 "metadata": {
  "kernelspec": {
   "display_name": "Python 3",
   "language": "python",
   "name": "python3"
  },
  "language_info": {
   "codemirror_mode": {
    "name": "ipython",
    "version": 3
   },
   "file_extension": ".py",
   "mimetype": "text/x-python",
   "name": "python",
   "nbconvert_exporter": "python",
   "pygments_lexer": "ipython3",
   "version": "3.6.4"
  }
 },
 "nbformat": 4,
 "nbformat_minor": 2
}
