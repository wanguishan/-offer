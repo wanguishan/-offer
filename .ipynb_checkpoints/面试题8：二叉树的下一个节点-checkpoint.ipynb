{
 "cells": [
  {
   "cell_type": "markdown",
   "metadata": {},
   "source": [
    "## 二叉树的下一个节点\n",
    "- 给定一个二叉树和其中的一个结点，请找出中序遍历顺序的下一个结点并且返回。注意，树中的结点不仅包含左右子结点，同时包含指向父结点的指针。"
   ]
  },
  {
   "cell_type": "code",
   "execution_count": 1,
   "metadata": {},
   "outputs": [],
   "source": [
    " class TreeLinkNode:\n",
    "        def __init__(self, x):\n",
    "            self.val = x\n",
    "            self.left = None\n",
    "            self.right = None\n",
    "            self.next = None"
   ]
  },
  {
   "cell_type": "code",
   "execution_count": null,
   "metadata": {},
   "outputs": [],
   "source": [
    "class Solution:\n",
    "    def GetNext(self, pNode):\n",
    "        if  not pNode:\n",
    "            return None  \n",
    "        \n",
    "        if pNode.right:                           # 如果一个节点有右子树，那么下一个节点就是右子树中的最左子节点\n",
    "            left1 = pNode.right\n",
    "            while left1.left:\n",
    "                left1 = left1.left\n",
    "            return left1\n",
    "        \n",
    "        while pNode.next:\n",
    "            temp = pNode.next\n",
    "            if temp.left == pNode:        #如果一个节点没有右子树，并且是它父节点的左子节点，那么下一个节点就是它的父节点\n",
    "                return temp\n",
    "            else:\n",
    "                pNode = temp                #沿着父节点向上遍历，直到找到某节点是其父节点的左子节点，返回其父节点\n",
    "            \n"
   ]
  }
 ],
 "metadata": {
  "kernelspec": {
   "display_name": "Python 3",
   "language": "python",
   "name": "python3"
  },
  "language_info": {
   "codemirror_mode": {
    "name": "ipython",
    "version": 3
   },
   "file_extension": ".py",
   "mimetype": "text/x-python",
   "name": "python",
   "nbconvert_exporter": "python",
   "pygments_lexer": "ipython3",
   "version": "3.6.4"
  }
 },
 "nbformat": 4,
 "nbformat_minor": 2
}
