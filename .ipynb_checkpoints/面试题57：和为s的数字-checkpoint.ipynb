{
 "cells": [
  {
   "cell_type": "markdown",
   "metadata": {},
   "source": [
    "### 和为s的数字\n",
    "- 输入一个递增排序的数组和一个数字S，在数组中查找两个数，使得他们的和正好是S，如果有多对数字的和等于S，输出两个数的乘积最小的。"
   ]
  },
  {
   "cell_type": "code",
   "execution_count": 1,
   "metadata": {},
   "outputs": [],
   "source": [
    "# -*- coding:utf-8 -*-\n",
    "class Solution:\n",
    "    def FindNumbersWithSum(self, array, tsum):\n",
    "        # write code here\n",
    "        if not array:\n",
    "            return []\n",
    "        p1, p2 = 0, len(array)-1\n",
    "        while p1 < p2:\n",
    "            if array[p1] + array[p2] > tsum:\n",
    "                p2 -= 1\n",
    "            elif array[p1] + array[p2] < tsum:\n",
    "                p1 += 1\n",
    "            else:\n",
    "                return [array[p1], array[p2]]\n",
    "        return []"
   ]
  },
  {
   "cell_type": "markdown",
   "metadata": {},
   "source": [
    "### 和为s的连续正数序列\n",
    "- 输入一个正数s，打印出所有和为s的连续正数序列（至少含有两个数）。例如，输入15，由于1+2+3+4+5=4+5+6=7+8=15，所以打印出3个连续序列1~5、4~6和7~8。"
   ]
  },
  {
   "cell_type": "code",
   "execution_count": 2,
   "metadata": {},
   "outputs": [],
   "source": [
    "# -*- coding:utf-8 -*-\n",
    "class Solution:\n",
    "    def FindContinuousSequence(self, tsum):\n",
    "        # write code here\n",
    "        if tsum < 3:\n",
    "            return []\n",
    "        small, big = 1, 2\n",
    "        res = []\n",
    "        while small < (tsum+1) // 2:\n",
    "            curSum = self.sumFromSmallToBig(small, big)\n",
    "            if curSum > tsum:\n",
    "                small += 1\n",
    "            elif curSum < tsum:\n",
    "                big += 1\n",
    "            else:\n",
    "                res.append(list(range(small, big+1)))\n",
    "                big += 1\n",
    "        return res\n",
    "                \n",
    "    def sumFromSmallToBig(self, small, big):\n",
    "        _sum = 0\n",
    "        for i in range(small, big+1):\n",
    "            _sum += i\n",
    "        return _sum                "
   ]
  },
  {
   "cell_type": "code",
   "execution_count": 3,
   "metadata": {},
   "outputs": [
    {
     "name": "stdout",
     "output_type": "stream",
     "text": [
      "[[1, 2, 3, 4, 5], [4, 5, 6], [7, 8]]\n"
     ]
    }
   ],
   "source": [
    "print(Solution().FindContinuousSequence(15))"
   ]
  }
 ],
 "metadata": {
  "kernelspec": {
   "display_name": "Python 3",
   "language": "python",
   "name": "python3"
  },
  "language_info": {
   "codemirror_mode": {
    "name": "ipython",
    "version": 3
   },
   "file_extension": ".py",
   "mimetype": "text/x-python",
   "name": "python",
   "nbconvert_exporter": "python",
   "pygments_lexer": "ipython3",
   "version": "3.6.4"
  }
 },
 "nbformat": 4,
 "nbformat_minor": 2
}
