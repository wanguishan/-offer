{
 "cells": [
  {
   "cell_type": "markdown",
   "metadata": {},
   "source": [
    "## 剪绳子\n",
    "- 给你一根长度为n的绳子，请把绳子剪成m段(m,n都是整数，且n>1,m>1),每段绳子的长度记为k[0],k[1],k[2],...,k[m]。请问k[0]*k[1]*...*k[m]可能的最大乘积是多少？例如，当绳子的长度为8时，我们把它剪成长度分别为2，3，3的三段，此时得到的最大乘积为18。"
   ]
  },
  {
   "cell_type": "code",
   "execution_count": 90,
   "metadata": {},
   "outputs": [],
   "source": [
    "class Solution():\n",
    "    def ropeCut(self, length):\n",
    "        \"\"\"\n",
    "        动态规划\n",
    "        \"\"\"\n",
    "        #最优解数组：当长度为0时,是0，长度为1时是1，长度为2时是2，当长度大于3时，3就不能再切了，因为3>1*2\n",
    "        if not isinstance(length, int):\n",
    "            return False            \n",
    "        if not length > 1:\n",
    "            return False\n",
    "        if length == 2:\n",
    "            return 1\n",
    "        if length == 3:\n",
    "            return 2\n",
    "        \n",
    "        products = [0] * (length+1)    #用于存储子问题的最优解\n",
    "        products[0] = 0\n",
    "        products[1] = 1\n",
    "        products[2] = 2\n",
    "        products[3] = 3\n",
    "        \n",
    "        max = 0\n",
    "        for i in range(4, length+1):\n",
    "            for j in range(1, i//2 + 1):    #求解所有可能的f(j)*f(i-j)并比较得出它们的最大值\n",
    "                product = products[j] * products[i-j]\n",
    "                if max < product:\n",
    "                    max = product\n",
    "            products[i] = max\n",
    "        return products[length]\n",
    "    \n",
    "    def ropeCut_2(self, length):\n",
    "        \"\"\"\n",
    "        贪婪算法：当n>=5时，尽可能多地剪长度为3的绳子；\n",
    "        当剩下的绳子长度为4时，把绳子剪成两段长度为2的绳子。\n",
    "        \"\"\"\n",
    "        if length < 2:\n",
    "            return 0\n",
    "        if length == 2:\n",
    "            return 1\n",
    "        if length == 3:\n",
    "            return 2\n",
    "        \n",
    "        timesOf3 = length//3\n",
    "        if length - timesOf3 * 3 ==1:\n",
    "            timesOf3 -= 1\n",
    "            \n",
    "        timesOf2 = (length - timesOf3 * 3) // 2\n",
    "        \n",
    "        return (3**timesOf3) * (2**timesOf2)\n",
    "        \n",
    "        "
   ]
  },
  {
   "cell_type": "code",
   "execution_count": 99,
   "metadata": {},
   "outputs": [
    {
     "name": "stdout",
     "output_type": "stream",
     "text": [
      "6\n",
      "6\n"
     ]
    }
   ],
   "source": [
    "if __name__ == \"__main__\":\n",
    "    print(Solution().ropeCut(5))\n",
    "    print(Solution().ropeCut_2(5))"
   ]
  },
  {
   "cell_type": "code",
   "execution_count": 88,
   "metadata": {},
   "outputs": [
    {
     "name": "stdout",
     "output_type": "stream",
     "text": [
      "6\n"
     ]
    }
   ],
   "source": [
    "## 动态规划\n",
    "def rope_cut(length):\n",
    "\n",
    "    if not isinstance(length, int):    #如果输入的长度不是整数，返回False\n",
    "        return False\n",
    "    if length < 2:                          #当长度小于2时，返回False\n",
    "        return False\n",
    "    if length==2:                        #当长度为2时，返回1\n",
    "        return 1\n",
    "    if length==3:                      #当长度为3时，返回2\n",
    "        return 2\n",
    "    \n",
    "    # 最优解数组，当长度为0是为0，当长度为1是为1，当长度为2时为2，\n",
    "    #当长度大于3时，3就不能切开了，因为3>1*2，最优解数组为3    \n",
    "    List = [0, 1, 2, 3]\n",
    "    max = 0\n",
    "    for i in range(4, length+1):\n",
    "        for j in range(1, i//2 +1):\n",
    "            # 思路：每次求解值时将其他小于需要求解的长度是都列出来放在一个数组里\n",
    "            #如：求长度为5，最优解数组里必须得有长度为1,2,3,4的最优解值\n",
    "            #注：此处使用列表保存最优解数组是为了性能优化，虽然递归求解也能解出，但会造成大量重复执行\n",
    "            temp=List[j] * List[i-j]\n",
    "            if temp>max:\n",
    "                max=temp\n",
    "        List.append(max)           #每次将上次所得最优解追加在列表里\n",
    "    return List[-1]\n",
    "\n",
    "print(rope_cut(5))"
   ]
  },
  {
   "cell_type": "code",
   "execution_count": null,
   "metadata": {},
   "outputs": [],
   "source": []
  },
  {
   "cell_type": "code",
   "execution_count": null,
   "metadata": {},
   "outputs": [],
   "source": []
  }
 ],
 "metadata": {
  "kernelspec": {
   "display_name": "Python 3",
   "language": "python",
   "name": "python3"
  },
  "language_info": {
   "codemirror_mode": {
    "name": "ipython",
    "version": 3
   },
   "file_extension": ".py",
   "mimetype": "text/x-python",
   "name": "python",
   "nbconvert_exporter": "python",
   "pygments_lexer": "ipython3",
   "version": "3.6.4"
  }
 },
 "nbformat": 4,
 "nbformat_minor": 2
}
