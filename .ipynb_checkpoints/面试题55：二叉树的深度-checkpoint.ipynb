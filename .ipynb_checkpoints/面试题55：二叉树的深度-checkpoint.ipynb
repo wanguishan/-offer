{
 "cells": [
  {
   "cell_type": "markdown",
   "metadata": {},
   "source": [
    "题目一：二叉树的深度\n",
    "- 输入一棵二叉树，求该树的深度。从根结点到叶结点依次经过的结点（含根、叶结点）形成树的一条路径，最长路径的长度为树的深度。"
   ]
  },
  {
   "cell_type": "code",
   "execution_count": 2,
   "metadata": {},
   "outputs": [],
   "source": [
    "# -*- coding:utf-8 -*-\n",
    "# class TreeNode:\n",
    "#     def __init__(self, x):\n",
    "#         self.val = x\n",
    "#         self.left = None\n",
    "#         self.right = None\n",
    "class Solution:\n",
    "    def TreeDepth(self, pRoot):\n",
    "        \"\"\"递归\"\"\"\n",
    "        if not pRoot:\n",
    "            return 0\n",
    "        leftDepth = self.TreeDepth(pRoot.left)\n",
    "        rightDepth = self.TreeDepth(pRoot.right)\n",
    "        return max(leftDepth, rightDepth) + 1\n",
    "    \n",
    "    def TreeDepth(self, pRoot):\n",
    "        \"\"\"利用层次遍历计算深度\"\"\"\n",
    "        if not pRoot:\n",
    "            return 0\n",
    "        stack = [pRoot]\n",
    "        res = 0\n",
    "        while stack:\n",
    "            temp = []\n",
    "            for node in stack:\n",
    "                if node.left:\n",
    "                    temp.append(node.left)\n",
    "                if node.right:\n",
    "                    temp.append(node.right)\n",
    "            stack = temp\n",
    "            res += 1\n",
    "        return res    "
   ]
  },
  {
   "cell_type": "markdown",
   "metadata": {},
   "source": [
    " 题目二：平衡二叉树\n",
    "- 输入一棵二叉树，判断该二叉树是否是平衡二叉树。"
   ]
  },
  {
   "cell_type": "code",
   "execution_count": 1,
   "metadata": {},
   "outputs": [],
   "source": [
    "# -*- coding:utf-8 -*-\n",
    "# class TreeNode:\n",
    "#     def __init__(self, x):\n",
    "#         self.val = x\n",
    "#         self.left = None\n",
    "#         self.right = None        \n",
    "class Solution:\n",
    "    def IsBalanced_Solution(self, pRoot):\n",
    "        if not pRoot:\n",
    "            return True\n",
    "        leftDepth = self.getDepth(pRoot.left)\n",
    "        rightDepth = self.getDepth(pRoot.right)\n",
    "        diff = leftDepth - rightDepth\n",
    "        if diff < -1 or diff > 1:            # if abs(diff) > 1:\n",
    "            return False\n",
    "        return self.IsBalanced_Solution(pRoot.left) and self.IsBalanced_Solution(pRoot.right)\n",
    "    \n",
    "    def getDepth(self, pRoot):\n",
    "        if not pRoot:\n",
    "            return 0\n",
    "        leftDepth = self.getDepth(pRoot.left)\n",
    "        rightDepth = self.getDepth(pRoot.right)\n",
    "        return max(leftDepth, rightDepth) + 1"
   ]
  }
 ],
 "metadata": {
  "kernelspec": {
   "display_name": "Python 3",
   "language": "python",
   "name": "python3"
  },
  "language_info": {
   "codemirror_mode": {
    "name": "ipython",
    "version": 3
   },
   "file_extension": ".py",
   "mimetype": "text/x-python",
   "name": "python",
   "nbconvert_exporter": "python",
   "pygments_lexer": "ipython3",
   "version": "3.6.4"
  }
 },
 "nbformat": 4,
 "nbformat_minor": 2
}
