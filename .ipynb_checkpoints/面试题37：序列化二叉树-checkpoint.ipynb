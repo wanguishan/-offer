{
 "cells": [
  {
   "cell_type": "markdown",
   "metadata": {},
   "source": [
    "- 请实现两个函数，分别用来序列化和反序列化二叉树"
   ]
  },
  {
   "cell_type": "code",
   "execution_count": null,
   "metadata": {},
   "outputs": [],
   "source": [
    "# class TreeNode:\n",
    "#     def __init__(self, x):\n",
    "#         self.val = x\n",
    "#         self.left = None\n",
    "#         self.right = None\n",
    "class Solution:\n",
    "    def __init__(self):\n",
    "        self.flag = -1\n",
    "        \n",
    "    def Serialize(self, root):\n",
    "        if not root:\n",
    "            return '#'\n",
    "        return str(root.val) + ',' + self.Serialize(root.left) + ',' + self.Serialize(root.right)\n",
    "    \n",
    "    def Deserialize(self, s):\n",
    "        self.flag += 1\n",
    "        s_list = s.split(',')\n",
    "        \n",
    "        root = None        \n",
    "        if self.flag < len(s_list):\n",
    "            if s_list[self.flag] != '#':\n",
    "                root = TreeNode(int(s_list[self.flag]))\n",
    "                root.left = self.Deserialize(s)\n",
    "                root.right = self.Deserialize(s)\n",
    "        return root"
   ]
  }
 ],
 "metadata": {
  "kernelspec": {
   "display_name": "Python 3",
   "language": "python",
   "name": "python3"
  },
  "language_info": {
   "codemirror_mode": {
    "name": "ipython",
    "version": 3
   },
   "file_extension": ".py",
   "mimetype": "text/x-python",
   "name": "python",
   "nbconvert_exporter": "python",
   "pygments_lexer": "ipython3",
   "version": "3.6.4"
  }
 },
 "nbformat": 4,
 "nbformat_minor": 2
}
