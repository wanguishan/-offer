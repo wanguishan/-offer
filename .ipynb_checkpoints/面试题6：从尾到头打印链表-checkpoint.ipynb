{
 "cells": [
  {
   "cell_type": "markdown",
   "metadata": {},
   "source": [
    "## 从尾到头打印链表\n",
    "- 输入一个链表的头节点，从尾到头反过来打印出每个节点的值。"
   ]
  },
  {
   "cell_type": "code",
   "execution_count": 1,
   "metadata": {},
   "outputs": [],
   "source": [
    "class ListNode():     \n",
    "    def __init__(self, x):\n",
    "        self.val = x                   #数据域\n",
    "        self.next = None         #指针域"
   ]
  },
  {
   "cell_type": "code",
   "execution_count": 2,
   "metadata": {},
   "outputs": [],
   "source": [
    "class ListNode:\n",
    "    def __init__(self, x):\n",
    "        self.val = x\n",
    "        self.next = None\n",
    "        \n",
    "class Solution:\n",
    "    def printListFromTailToHead(self, listNode):\n",
    "        \"\"\"\n",
    "        解法1：栈，可使用列表模拟\n",
    "        \"\"\"\n",
    "        if not listNode:\n",
    "            return []\n",
    "        result = []\n",
    "        while listNode:\n",
    "            result.insert(0, listNode.val)    # # res.append(head.val)\n",
    "            listNode = listNode.next\n",
    "        return result                          ##  return res[::-1]\n",
    "    \n",
    "    def printListFromTailToHead_recursion(self, listNode):\n",
    "        \"\"\"\n",
    "        解法2：递归\n",
    "        \"\"\"\n",
    "        if not listNode :\n",
    "            return []\n",
    "        return self.printListFromTailToHead_recursion(listNode.next) + [listNode.val]"
   ]
  }
 ],
 "metadata": {
  "kernelspec": {
   "display_name": "Python 3",
   "language": "python",
   "name": "python3"
  },
  "language_info": {
   "codemirror_mode": {
    "name": "ipython",
    "version": 3
   },
   "file_extension": ".py",
   "mimetype": "text/x-python",
   "name": "python",
   "nbconvert_exporter": "python",
   "pygments_lexer": "ipython3",
   "version": "3.6.4"
  }
 },
 "nbformat": 4,
 "nbformat_minor": 2
}
