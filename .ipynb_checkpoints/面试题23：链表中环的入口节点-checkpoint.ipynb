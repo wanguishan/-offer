{
 "cells": [
  {
   "cell_type": "markdown",
   "metadata": {},
   "source": [
    "## 链表中环的入口节点\n",
    "- 如果一个链表中包含环，如何找到环的入口节点？"
   ]
  },
  {
   "cell_type": "code",
   "execution_count": null,
   "metadata": {},
   "outputs": [],
   "source": [
    "class ListNode():\n",
    "    def __init__（self, x）:\n",
    "        self.val = x\n",
    "        self.next = None\n",
    "        \n",
    "class Solution():\n",
    "    def EntryNodeOfLoop(self, pHead):        \n",
    "        if not pHead:\n",
    "            return None\n",
    "        p1 = pHead\n",
    "        p2 = pHead\n",
    "        while p2.next:\n",
    "            p1 = p1.next\n",
    "            p2 = p2.next.next\n",
    "            if not p2:\n",
    "                return None            \n",
    "            if p1 == p2:\n",
    "                p2 = pHead\n",
    "                while p2 != p1:\n",
    "                    p2 = p2.next\n",
    "                    p1 = p1.next\n",
    "                return p1 \n",
    "    \n",
    "    \n",
    "    def EntryNodeOfLoop_2(self, pHead):\n",
    "        if not pHead:\n",
    "            return None\n",
    "        \n",
    "        pList = set()      \n",
    "        while pHead:\n",
    "            pList.add(pHead)\n",
    "            pHead = pHead.next\n",
    "            if not pHead:\n",
    "                return None\n",
    "            if pHead in pList:\n",
    "                return pHead"
   ]
  }
 ],
 "metadata": {
  "kernelspec": {
   "display_name": "Python 3",
   "language": "python",
   "name": "python3"
  },
  "language_info": {
   "codemirror_mode": {
    "name": "ipython",
    "version": 3
   },
   "file_extension": ".py",
   "mimetype": "text/x-python",
   "name": "python",
   "nbconvert_exporter": "python",
   "pygments_lexer": "ipython3",
   "version": "3.6.4"
  }
 },
 "nbformat": 4,
 "nbformat_minor": 2
}
