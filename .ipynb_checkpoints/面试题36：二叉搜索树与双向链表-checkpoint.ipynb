{
 "cells": [
  {
   "cell_type": "markdown",
   "metadata": {},
   "source": [
    "- 输入一棵二叉搜索树，将该二叉搜索树转换成一个排序的双向链表。要求不能创建任何新的结点，只能调整树中结点指针的指向。"
   ]
  },
  {
   "cell_type": "code",
   "execution_count": null,
   "metadata": {},
   "outputs": [],
   "source": [
    "# -*- coding:utf-8 -*-\n",
    "# class TreeNode:\n",
    "#     def __init__(self, x):\n",
    "#         self.val = x\n",
    "#         self.left = None\n",
    "#         self.right = None\n",
    "class Solution:\n",
    "    def Convert(self, pRootOfTree):\n",
    "        # write code here\n",
    "        if not pRootOfTree:\n",
    "            return\n",
    "        res = self.inOrderTraversal(pRootOfTree)\n",
    "        res = map(TreeNode, res)\n",
    "        for index, value in enumerate(res[:-1]):\n",
    "            value.right = res[index + 1]            \n",
    "            res[index + 1].left  = value\n",
    "        return res[0]        \n",
    "        \n",
    "    def inOrderTraversal(self, pRoot):\n",
    "        if not pRoot:\n",
    "            return []\n",
    "        res = []\n",
    "        stack = []\n",
    "        while pRoot or stack:\n",
    "            if pRoot:\n",
    "                stack.append(pRoot)\n",
    "                pRoot = pRoot.left\n",
    "            else:\n",
    "                node = stack.pop()\n",
    "                res.append(node.val)\n",
    "                pRoot = node.right\n",
    "        return res"
   ]
  }
 ],
 "metadata": {
  "kernelspec": {
   "display_name": "Python 3",
   "language": "python",
   "name": "python3"
  },
  "language_info": {
   "codemirror_mode": {
    "name": "ipython",
    "version": 3
   },
   "file_extension": ".py",
   "mimetype": "text/x-python",
   "name": "python",
   "nbconvert_exporter": "python",
   "pygments_lexer": "ipython3",
   "version": "3.6.4"
  }
 },
 "nbformat": 4,
 "nbformat_minor": 2
}
