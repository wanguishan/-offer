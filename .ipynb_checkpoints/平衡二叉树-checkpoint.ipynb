{
 "cells": [
  {
   "cell_type": "markdown",
   "metadata": {},
   "source": [
    "- 输入一棵二叉树，判断该二叉树是否是平衡二叉树。"
   ]
  },
  {
   "cell_type": "code",
   "execution_count": null,
   "metadata": {},
   "outputs": [],
   "source": [
    "class TreeNode:\n",
    "    def __init__(self, x):\n",
    "        self.val = x\n",
    "        self.left = None\n",
    "        self.right = None\n",
    "        \n",
    "        \n",
    "class Solution:\n",
    "    def IsBalanced_Solution(self, pRoot):\n",
    "        if not pRoot:\n",
    "            return True\n",
    "        leftDepth = self.getDepth(pRoot.left)\n",
    "        rightDepth = self.getDepth(pRoot.right)\n",
    "        diff = leftDepth - rightDepth\n",
    "        if diff < -1 or diff > 1:            # if abs(diff) > 1:\n",
    "            return False\n",
    "        return self.IsBalanced_Solution(pRoot.left) and self.IsBalanced_Solution(pRoot.right)\n",
    "    \n",
    "    def getDepth(self, pRoot):\n",
    "        if not pRoot:\n",
    "            return 0\n",
    "        leftDepth = self.getDepth(pRoot.left)\n",
    "        rightDepth = self.getDepth(pRoot.right)\n",
    "        return max(leftDepth, rightDepth) + 1\n",
    "        "
   ]
  }
 ],
 "metadata": {
  "kernelspec": {
   "display_name": "Python 3",
   "language": "python",
   "name": "python3"
  },
  "language_info": {
   "codemirror_mode": {
    "name": "ipython",
    "version": 3
   },
   "file_extension": ".py",
   "mimetype": "text/x-python",
   "name": "python",
   "nbconvert_exporter": "python",
   "pygments_lexer": "ipython3",
   "version": "3.6.4"
  }
 },
 "nbformat": 4,
 "nbformat_minor": 2
}
