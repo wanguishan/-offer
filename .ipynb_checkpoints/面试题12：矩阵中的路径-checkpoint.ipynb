{
 "cells": [
  {
   "cell_type": "markdown",
   "metadata": {},
   "source": [
    "## 矩阵中的路径\n",
    "- 请设计一个函数，用来判断在一个矩阵中是否存在一条包含某字符串所有字符的路径。路径可以从矩阵中的任意一个格子开始，每一步可以在矩阵中向左，向右，向上，向下移动一个格子。如果一条路径经过了矩阵中的某一个格子，则之后不能再次进入这个格子。 例如 [[a, b, t, g], [c, f, c, s], [j, d, e, h]] 这样的3 X 4 矩阵中包含一条字符串\"bfce\"的路径，但是矩阵中不包含\"abfb\"路径，因为字符串的第一个字符b占据了矩阵中的第一行第二个格子之后，路径不能再次进入该格子。"
   ]
  },
  {
   "cell_type": "code",
   "execution_count": 1,
   "metadata": {},
   "outputs": [],
   "source": [
    "class Solution:\n",
    "    def hasPath(self, matrix, rows, cols, path):\n",
    "        \"\"\"\n",
    "        回溯法，递归实现\n",
    "        \"\"\"\n",
    "        for row in range(rows):\n",
    "            for col in range(cols):\n",
    "                if matrix[row*cols + col] == path[0]:\n",
    "                    if self.isPath(list(matrix), rows, cols, path[1:], row, col):\n",
    "                        return True\n",
    "        return False\n",
    "    \n",
    "    def isPath(self, matrix, rows, cols, path, row, col):\n",
    "        if not path:\n",
    "            return True\n",
    "        matrix[row*cols + col] = '0'\n",
    "        if col+1<cols and matrix[row*cols+col+1] == path[0]:\n",
    "            return self.isPath(matrix, rows, cols, path[1:], row, col+1)\n",
    "        elif col-1>=0 and matrix[row*cols+col-1] == path[0]:\n",
    "            return self.isPath(matrix, rows, cols, path[1:], row, col-1)\n",
    "        elif row+1<rows and matrix[(row+1)*cols+col] == path[0]:\n",
    "            return self.isPath(matrix, rows, cols, path[1:], row+1, col)\n",
    "        elif row-1>=0 and matrix[(row-1)*cols+col] == path[0]:\n",
    "            return self.isPath(matrix, rows, cols, path[1:], row-1, col)\n",
    "        else:\n",
    "            return False   "
   ]
  }
 ],
 "metadata": {
  "kernelspec": {
   "display_name": "Python 3",
   "language": "python",
   "name": "python3"
  },
  "language_info": {
   "codemirror_mode": {
    "name": "ipython",
    "version": 3
   },
   "file_extension": ".py",
   "mimetype": "text/x-python",
   "name": "python",
   "nbconvert_exporter": "python",
   "pygments_lexer": "ipython3",
   "version": "3.6.4"
  }
 },
 "nbformat": 4,
 "nbformat_minor": 2
}
