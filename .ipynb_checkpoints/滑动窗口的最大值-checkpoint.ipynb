{
 "cells": [
  {
   "cell_type": "markdown",
   "metadata": {},
   "source": [
    "- 给定一个数组和滑动窗口的大小，找出所有滑动窗口里数值的最大值。\n",
    "\n",
    "例如，如果输入数组{2,3,4,2,6,2,5,1}及滑动窗口的大小3，那么一共存在6个滑动窗口，他们的最大值分别为{4,4,6,6,6,5}； \n",
    "\n",
    "针对数组{2,3,4,2,6,2,5,1}的滑动窗口有以下6个： \n",
    "\n",
    "{[2,3,4],2,6,2,5,1}， {2,[3,4,2],6,2,5,1}， {2,3,[4,2,6],2,5,1}， {2,3,4,[2,6,2],5,1}， {2,3,4,2,[6,2,5],1}， {2,3,4,2,6,[2,5,1]}。\n"
   ]
  },
  {
   "cell_type": "code",
   "execution_count": 1,
   "metadata": {},
   "outputs": [],
   "source": [
    "def maxInWindows(num, size):\n",
    "    if not num or size<=0 or size>len(num):\n",
    "        return []\n",
    "    res = []\n",
    "    for i in range(len(num)-size+1):\n",
    "        res.append(max(num[i:i+size]))\n",
    "        print(num[:i] + [num[i:i+size]] + num[i+size:])\n",
    "    return res"
   ]
  },
  {
   "cell_type": "code",
   "execution_count": 2,
   "metadata": {},
   "outputs": [
    {
     "name": "stdout",
     "output_type": "stream",
     "text": [
      "[[2, 3, 4], 2, 6, 2, 5, 1]\n",
      "[2, [3, 4, 2], 6, 2, 5, 1]\n",
      "[2, 3, [4, 2, 6], 2, 5, 1]\n",
      "[2, 3, 4, [2, 6, 2], 5, 1]\n",
      "[2, 3, 4, 2, [6, 2, 5], 1]\n",
      "[2, 3, 4, 2, 6, [2, 5, 1]]\n"
     ]
    },
    {
     "data": {
      "text/plain": [
       "[4, 4, 6, 6, 6, 5]"
      ]
     },
     "execution_count": 2,
     "metadata": {},
     "output_type": "execute_result"
    }
   ],
   "source": [
    "maxInWindows([2,3,4,2,6,2,5,1], 3)"
   ]
  }
 ],
 "metadata": {
  "kernelspec": {
   "display_name": "Python 3",
   "language": "python",
   "name": "python3"
  },
  "language_info": {
   "codemirror_mode": {
    "name": "ipython",
    "version": 3
   },
   "file_extension": ".py",
   "mimetype": "text/x-python",
   "name": "python",
   "nbconvert_exporter": "python",
   "pygments_lexer": "ipython3",
   "version": "3.6.4"
  }
 },
 "nbformat": 4,
 "nbformat_minor": 2
}
