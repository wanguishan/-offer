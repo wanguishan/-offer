{
 "cells": [
  {
   "cell_type": "markdown",
   "metadata": {},
   "source": [
    "### 题目一：数组中只出现一次的两个数字\n",
    "- 一个整型数组里除了两个数字之外，其他的数字都出现了偶数次。请写程序找出这两个只出现一次的数字。"
   ]
  },
  {
   "cell_type": "code",
   "execution_count": 14,
   "metadata": {},
   "outputs": [],
   "source": [
    "class Solution:\n",
    "    def FindNumsAppearOnce_1(self, array):\n",
    "        res = list(filter(lambda x: array.count(x)==1, array))\n",
    "        return res\n",
    "    \n",
    "    def FindNumsAppearOnce_2(self, array):    \n",
    "        res = []\n",
    "        for i in array:\n",
    "            if i not in res:\n",
    "                res.append(i)\n",
    "            else:\n",
    "                res.remove(i)\n",
    "        return res\n",
    "    \n",
    "    def FindNumsAppearOnce_3(self, array):\n",
    "        \"\"\"\n",
    "        >时间复杂度O(n)\n",
    "        >空间复杂度O(1)\n",
    "        \"\"\"\n",
    "        res = 0\n",
    "        for i in array:\n",
    "            res ^= i\n",
    "        index = self.FindFirstBitIs1(res)\n",
    "        num1 = num2 = 0\n",
    "        for j in array:\n",
    "            if self.IsBit1(j, index):\n",
    "                num1 ^= j\n",
    "            else:\n",
    "                num2 ^= j\n",
    "        return [num1, num2]\n",
    "    \n",
    "    def FindFirstBitIs1(self, num):\n",
    "        index = 0\n",
    "        while num&1 != 1 and index<32:\n",
    "            num = num >> 1\n",
    "            index += 1\n",
    "        return index\n",
    "    \n",
    "    def IsBit1(self, num, index):\n",
    "        num = num >> index\n",
    "        return num&1"
   ]
  },
  {
   "cell_type": "code",
   "execution_count": 15,
   "metadata": {},
   "outputs": [
    {
     "name": "stdout",
     "output_type": "stream",
     "text": [
      "[4, 6]\n",
      "[4, 6]\n",
      "[6, 4]\n"
     ]
    }
   ],
   "source": [
    "print(Solution().FindNumsAppearOnce_1([2, 4, 3, 6, 3, 2, 5, 5]))\n",
    "print(Solution().FindNumsAppearOnce_2([2, 4, 3, 6, 3, 2, 5, 5]))\n",
    "print(Solution().FindNumsAppearOnce_3([2, 4, 3, 6, 3, 2, 5, 5]))"
   ]
  },
  {
   "cell_type": "code",
   "execution_count": null,
   "metadata": {},
   "outputs": [],
   "source": []
  }
 ],
 "metadata": {
  "kernelspec": {
   "display_name": "Python 3",
   "language": "python",
   "name": "python3"
  },
  "language_info": {
   "codemirror_mode": {
    "name": "ipython",
    "version": 3
   },
   "file_extension": ".py",
   "mimetype": "text/x-python",
   "name": "python",
   "nbconvert_exporter": "python",
   "pygments_lexer": "ipython3",
   "version": "3.6.4"
  }
 },
 "nbformat": 4,
 "nbformat_minor": 2
}
