{
 "cells": [
  {
   "cell_type": "markdown",
   "metadata": {},
   "source": [
    "## 二维数组中的查找\n",
    "- 在一个二维数组中，每一行都按照从左到右递增的顺序排序，每一列都按照从上到下递增的顺序排序。请完成一个函数，输入这样的一个二维数组和一个整数，判断数组中是否含有该整数。"
   ]
  },
  {
   "cell_type": "code",
   "execution_count": 3,
   "metadata": {},
   "outputs": [],
   "source": [
    "def find_integer_1(matrix, num):\n",
    "    \"\"\"\n",
    "    解法一：二层遍历，时间并不是最优\n",
    "    \"\"\"\n",
    "    rows, cols = len(matrix), len(matrix[0])\n",
    "    for i in range(rows):\n",
    "        for j in range(cols):\n",
    "            if matrix[i][j] == num:\n",
    "                return True\n",
    "    return False"
   ]
  },
  {
   "cell_type": "markdown",
   "metadata": {},
   "source": [
    "### 解法二：\n",
    "- 首先选取数组中右上角的数字。如果该数字等于要查找的数字，查找过程结束；如果该数字大于要查找的数字，剔除这个数字所在的列；如果该数字小于要查找的数字，剔除这个数字所在的行。也就是说如果要查找的数字不在数组的右上角，则每一次都在数组的查找范围中剔除一行或者一列，这样每一步都可以缩小查找的范围，直到找到要查找的数字，或者查找范围为空。"
   ]
  },
  {
   "cell_type": "code",
   "execution_count": 4,
   "metadata": {},
   "outputs": [],
   "source": [
    "def find_integer_2(matrix, num):\n",
    "    \"\"\"\n",
    "    解法二：从右上角（或左下角）开始遍历数组\n",
    "    \"\"\"\n",
    "    if not matrix:\n",
    "        return False\n",
    "    rows, cols = len(matrix), len(matrix[0])\n",
    "    row, col = 0, cols-1\n",
    "    while (row < rows and col >= 0):\n",
    "        if matrix[row][col] == num:\n",
    "            return True\n",
    "        elif matrix[row][col] > num:\n",
    "            col -= 1\n",
    "        else:\n",
    "            row += 1\n",
    "    return False    "
   ]
  },
  {
   "cell_type": "code",
   "execution_count": 6,
   "metadata": {},
   "outputs": [
    {
     "name": "stdout",
     "output_type": "stream",
     "text": [
      "True\n",
      "True\n"
     ]
    }
   ],
   "source": [
    "matrix =[[1, 2, 8, 9],\n",
    "               [2, 4, 9, 12],\n",
    "               [4, 7, 10, 13],\n",
    "               [6, 8, 11, 15] ]\n",
    "num = 7\n",
    "print(find_integer_1(matrix, num))\n",
    "print(find_integer_2(matrix, num))"
   ]
  }
 ],
 "metadata": {
  "kernelspec": {
   "display_name": "Python 3",
   "language": "python",
   "name": "python3"
  },
  "language_info": {
   "codemirror_mode": {
    "name": "ipython",
    "version": 3
   },
   "file_extension": ".py",
   "mimetype": "text/x-python",
   "name": "python",
   "nbconvert_exporter": "python",
   "pygments_lexer": "ipython3",
   "version": "3.6.4"
  }
 },
 "nbformat": 4,
 "nbformat_minor": 2
}
