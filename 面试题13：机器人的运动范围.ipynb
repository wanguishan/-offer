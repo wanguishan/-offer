{
 "cells": [
  {
   "cell_type": "markdown",
   "metadata": {},
   "source": [
    "## 机器人的运动范围\n",
    "- 地上有一个m行和n列的方格。一个机器人从坐标0,0的格子开始移动，每一次只能向左，右，上，下四个方向移动一格，但是不能进入行坐标和列坐标的数位之和大于k的格子。 例如，当k为18时，机器人能够进入方格（35,37），因为3+5+3+7 = 18。但是，它不能进入方格（35,38），因为3+5+3+8 = 19。请问该机器人能够达到多少个格子？"
   ]
  },
  {
   "cell_type": "code",
   "execution_count": 1,
   "metadata": {},
   "outputs": [],
   "source": [
    "class Solution:\n",
    "    def __init__(self):\n",
    "        self.cnt = 0\n",
    "        \n",
    "    def movingCount(self, threshold, rows, cols):\n",
    "        visited = [[0] * cols for _ in range(rows)]\n",
    "        \n",
    "        def block(row, col):\n",
    "            s = sum(map(int, str(row)+str(col)))\n",
    "            return s > threshold\n",
    "\n",
    "        def traverse(row, col):\n",
    "            if not (0 <= row <rows and 0 <= col <cols):\n",
    "                return\n",
    "            if visited[row][col] != 0:\n",
    "                return\n",
    "            if block(row, col):\n",
    "                return\n",
    "            visited[row][col] = 1\n",
    "            self.cnt += 1\n",
    "            traverse(row+1, col)\n",
    "            traverse(row-1, col)\n",
    "            traverse(row, col+1)\n",
    "            traverse(row, col-1)\n",
    "                    \n",
    "        traverse(0, 0)\n",
    "        return self.cnt        "
   ]
  }
 ],
 "metadata": {
  "kernelspec": {
   "display_name": "Python 3",
   "language": "python",
   "name": "python3"
  },
  "language_info": {
   "codemirror_mode": {
    "name": "ipython",
    "version": 3
   },
   "file_extension": ".py",
   "mimetype": "text/x-python",
   "name": "python",
   "nbconvert_exporter": "python",
   "pygments_lexer": "ipython3",
   "version": "3.6.4"
  }
 },
 "nbformat": 4,
 "nbformat_minor": 2
}
