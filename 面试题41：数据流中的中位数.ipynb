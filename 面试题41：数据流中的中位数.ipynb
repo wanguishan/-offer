{
 "cells": [
  {
   "cell_type": "markdown",
   "metadata": {},
   "source": [
    "- 如何得到一个数据流中的中位数？如果从数据流中读出奇数个数值，那么中位数就是所有数值排序之后位于中间的数值。如果从数据流中读出偶数个数值，那么中位数就是所有数值排序之后中间两个数的平均值。我们使用Insert()方法读取数据流，使用GetMedian()方法获取当前读取数据的中位数。"
   ]
  },
  {
   "cell_type": "code",
   "execution_count": 1,
   "metadata": {},
   "outputs": [],
   "source": [
    "class Solution:\n",
    "    def __init__(self):\n",
    "        self.nums = []\n",
    "        \n",
    "    def Insert(self, num):\n",
    "        index = len(self.nums)\n",
    "        for i in range(len(self.nums)):\n",
    "            if self.nums[i] > num:\n",
    "                index = i\n",
    "                break\n",
    "        self.nums.insert(index, num)\n",
    "\n",
    "    def GetMedian(self, nums):\n",
    "        length = len(self.nums)\n",
    "        if length%2 == 0:\n",
    "            res = (self.nums[length//2] + self.nums[length//2 - 1]) / 2.0\n",
    "        else:\n",
    "            res = self.nums[length//2]\n",
    "        return res"
   ]
  }
 ],
 "metadata": {
  "kernelspec": {
   "display_name": "Python 3",
   "language": "python",
   "name": "python3"
  },
  "language_info": {
   "codemirror_mode": {
    "name": "ipython",
    "version": 3
   },
   "file_extension": ".py",
   "mimetype": "text/x-python",
   "name": "python",
   "nbconvert_exporter": "python",
   "pygments_lexer": "ipython3",
   "version": "3.6.4"
  }
 },
 "nbformat": 4,
 "nbformat_minor": 2
}
