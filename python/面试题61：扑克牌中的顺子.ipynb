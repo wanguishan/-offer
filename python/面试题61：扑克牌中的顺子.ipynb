{
 "cells": [
  {
   "cell_type": "markdown",
   "metadata": {},
   "source": [
    "- 从扑克牌中随机抽5张牌，判断是不是一个顺子，即这5张牌是不是连续的。2~10为数字本身，A为1，J为11，Q为12，K为13，而大小王可以看成任意数字。"
   ]
  },
  {
   "cell_type": "code",
   "execution_count": 1,
   "metadata": {},
   "outputs": [],
   "source": [
    "# -*- coding:utf-8 -*-\n",
    "class Solution:\n",
    "    def IsContinuous(self, numbers):\n",
    "        # write code here\n",
    "        if not numbers:\n",
    "            return False\n",
    "        numbers.sort()\n",
    "        numberOfZero = numbers.count(0)\n",
    "        numberOfGap = 0\n",
    "        for i in range(len(numbers)-1):\n",
    "            if numbers[i] != 0:\n",
    "                if numbers[i] == numbers[i+1]:\n",
    "                    return False\n",
    "                numberOfGap += numbers[i+1] - numbers[i] -1\n",
    "        if numberOfGap > numberOfZero:\n",
    "            return False\n",
    "        return True"
   ]
  }
 ],
 "metadata": {
  "kernelspec": {
   "display_name": "Python 3",
   "language": "python",
   "name": "python3"
  },
  "language_info": {
   "codemirror_mode": {
    "name": "ipython",
    "version": 3
   },
   "file_extension": ".py",
   "mimetype": "text/x-python",
   "name": "python",
   "nbconvert_exporter": "python",
   "pygments_lexer": "ipython3",
   "version": "3.6.4"
  }
 },
 "nbformat": 4,
 "nbformat_minor": 2
}
