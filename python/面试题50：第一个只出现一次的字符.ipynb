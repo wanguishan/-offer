{
 "cells": [
  {
   "cell_type": "markdown",
   "metadata": {},
   "source": [
    "### 第一个只出现一次的字符\n",
    "- 在字符串中找出第一个只出现一次的字符。如输入'abaccdeff'，则输出'b'。"
   ]
  },
  {
   "cell_type": "code",
   "execution_count": 7,
   "metadata": {},
   "outputs": [],
   "source": [
    "class Solution:\n",
    "    def FirstNotRepeatingChar(self, s):\n",
    "        dic = {}\n",
    "        for i in s:\n",
    "            dic[i] = dic.get(i, 0) + 1\n",
    "            \n",
    "        for i in s:\n",
    "            if dic[i] == 1:\n",
    "                return s.index(i)\n",
    "        return -1"
   ]
  },
  {
   "cell_type": "code",
   "execution_count": 8,
   "metadata": {},
   "outputs": [
    {
     "name": "stdout",
     "output_type": "stream",
     "text": [
      "4\n"
     ]
    }
   ],
   "source": [
    "print(Solution().FirstNotRepeatingChar('google'))"
   ]
  },
  {
   "cell_type": "markdown",
   "metadata": {},
   "source": [
    "### 字符流中第一个不重复的字符\n",
    "- 题目描述\n",
    "    - 请实现一个函数用来找出字符流中第一个只出现一次的字符。例如，当从字符流中只读出前两个字符\"go\"时，第一个只出现一次的字符是\"g\"。当从该字符流中读出前六个字符“google\"时，第一个只出现一次的字符是\"l\"。\n",
    "- 输出描述:\n",
    "    - 如果当前字符流没有存在出现一次的字符，返回#字符。"
   ]
  },
  {
   "cell_type": "code",
   "execution_count": null,
   "metadata": {},
   "outputs": [],
   "source": [
    "# -*- coding:utf-8 -*-\n",
    "class Solution:\n",
    "    # 返回对应char\n",
    "    def __init__(self):\n",
    "        self.chars = []\n",
    "        \n",
    "    def FirstAppearingOnce(self):\n",
    "        dic = {}\n",
    "        for i in self.chars:\n",
    "            dic[i] = dic.get(i, 0) + 1\n",
    "        for char in self.chars:\n",
    "            if dic[char] == 1:\n",
    "                return char\n",
    "        return '#'\n",
    "    \n",
    "    def Insert(self, char):\n",
    "        self.chars.append(char)"
   ]
  }
 ],
 "metadata": {
  "kernelspec": {
   "display_name": "Python 3",
   "language": "python",
   "name": "python3"
  },
  "language_info": {
   "codemirror_mode": {
    "name": "ipython",
    "version": 3
   },
   "file_extension": ".py",
   "mimetype": "text/x-python",
   "name": "python",
   "nbconvert_exporter": "python",
   "pygments_lexer": "ipython3",
   "version": "3.6.4"
  }
 },
 "nbformat": 4,
 "nbformat_minor": 2
}
