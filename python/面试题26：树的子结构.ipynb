{
 "cells": [
  {
   "cell_type": "markdown",
   "metadata": {},
   "source": [
    "- 输入两棵二叉树A，B，判断B是不是A的子结构。（ps：我们约定空树不是任意一个树的子结构）"
   ]
  },
  {
   "cell_type": "code",
   "execution_count": 2,
   "metadata": {},
   "outputs": [],
   "source": [
    "# -*- coding:utf-8 -*-\n",
    "# class TreeNode:\n",
    "#     def __init__(self, x):\n",
    "#         self.val = x\n",
    "#         self.left = None\n",
    "#         self.right = None\n",
    "class Solution:\n",
    "    def HasSubtree(self, pRoot1, pRoot2):\n",
    "        # write code here\n",
    "        res = False\n",
    "        if pRoot1 and pRoot2:\n",
    "            if pRoot1.val == pRoot2.val:\n",
    "                res = self.DoesTree1HaveTree2(pRoot1, pRoot2)\n",
    "            if not res:\n",
    "                res = self.HasSubtree(pRoot1.left, pRoot2)\n",
    "            if not res:\n",
    "                res = self.HasSubtree(pRoot1.right, pRoot2)\n",
    "        return res\n",
    "    \n",
    "    def DoesTree1HaveTree2(self, pRoot1, pRoot2):\n",
    "        if not pRoot2:\n",
    "            return True\n",
    "        if not pRoot1:\n",
    "            return False\n",
    "        if pRoot1.val != pRoot2.val:\n",
    "            return False\n",
    "        return self.DoesTree1HaveTree2(pRoot1.left, pRoot2.left) and self.DoesTree1HaveTree2(pRoot1.right, pRoot2.right)"
   ]
  }
 ],
 "metadata": {
  "kernelspec": {
   "display_name": "Python 3",
   "language": "python",
   "name": "python3"
  },
  "language_info": {
   "codemirror_mode": {
    "name": "ipython",
    "version": 3
   },
   "file_extension": ".py",
   "mimetype": "text/x-python",
   "name": "python",
   "nbconvert_exporter": "python",
   "pygments_lexer": "ipython3",
   "version": "3.6.4"
  }
 },
 "nbformat": 4,
 "nbformat_minor": 2
}
