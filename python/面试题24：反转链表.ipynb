{
 "cells": [
  {
   "cell_type": "markdown",
   "metadata": {},
   "source": [
    "## 反转链表\n",
    "- 定义一个函数，输入一个链表的头节点，反转该链表并输出反转后链表的头节点。"
   ]
  },
  {
   "cell_type": "code",
   "execution_count": 2,
   "metadata": {},
   "outputs": [],
   "source": [
    "class ListNode():\n",
    "    def __init__(self, x):\n",
    "        self.val = x\n",
    "        self.next = next            "
   ]
  },
  {
   "cell_type": "code",
   "execution_count": 3,
   "metadata": {},
   "outputs": [],
   "source": [
    "class Solution():\n",
    "    def ReverseList(self, pHead):\n",
    "        \"\"\"\n",
    "        pHead始终指向要反转的结点\n",
    "        pReversedHead 指向反转后的首结点\n",
    "        每反转一个结点，把pHead结点的下一个结点指向pReversedHead,\n",
    "        pReversedHead指向pHead成为反转后首结点, 再把pHead向前移动一个结点直至None结束\n",
    "        \"\"\"\n",
    "        if not pHead:\n",
    "            return pHead\n",
    "        \n",
    "        new_Head = None\n",
    "        while pHead:\n",
    "            temp = pHead.next\n",
    "            pHead.next = new_Head\n",
    "            new_Head = pHead\n",
    "            pHead = temp\n",
    "        return new_Head"
   ]
  },
  {
   "cell_type": "code",
   "execution_count": null,
   "metadata": {},
   "outputs": [],
   "source": [
    "class Solution:\n",
    "    def ReverseList(self, pHead):\n",
    "        if not pHead or not pHead.next:\n",
    "            return pHead\n",
    "        \n",
    "        new_Head = self.ReverseList(pHead.next)\n",
    "        pHead.next.next = pHead\n",
    "        pHead.next = None\n",
    "        return new_Head"
   ]
  }
 ],
 "metadata": {
  "kernelspec": {
   "display_name": "Python 3",
   "language": "python",
   "name": "python3"
  },
  "language_info": {
   "codemirror_mode": {
    "name": "ipython",
    "version": 3
   },
   "file_extension": ".py",
   "mimetype": "text/x-python",
   "name": "python",
   "nbconvert_exporter": "python",
   "pygments_lexer": "ipython3",
   "version": "3.6.4"
  }
 },
 "nbformat": 4,
 "nbformat_minor": 2
}
