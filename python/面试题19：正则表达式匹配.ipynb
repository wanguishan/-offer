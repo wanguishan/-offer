{
 "cells": [
  {
   "cell_type": "markdown",
   "metadata": {},
   "source": [
    "- 请实现一个函数用来匹配包括'.'和'*'的正则表达式。模式中的字符'.'表示任意一个字符，而'*'表示它前面的字符可以出现任意次（包含0次）。 在本题中，匹配是指字符串的所有字符匹配整个模式。例如，字符串\"aaa\"与模式\"a.a\"和\"ab*ac*a\"匹配，但是与\"aa.a\"和\"ab*a\"均不匹配。"
   ]
  },
  {
   "cell_type": "code",
   "execution_count": null,
   "metadata": {},
   "outputs": [],
   "source": [
    "# -*- coding:utf-8 -*-\n",
    "class Solution:\n",
    "    # s, pattern都是字符串\n",
    "    def match(self, s, pattern):\n",
    "        # write code here\n",
    "        if len(s) == 0 and len(pattern) == 0:\n",
    "            return True\n",
    "        if len(s) > 0 and len(pattern) == 0:\n",
    "            return False\n",
    "        # 当模式中的第二个字符是 '*' 时\n",
    "        if len(pattern) > 1 and pattern[1] == '*':\n",
    "            # 如果字符串第一个字符和模式的第一个字符匹配（相等或匹配到 '.' ）\n",
    "            if len(s)>0 and (s[0]==pattern[0] or pattern[0]=='.'):\n",
    "                # 1. 模式向后移动两个字符，相当于 '*'  和它前面的字符被忽略\n",
    "                # 2. 字符串向后移动1个字符，模式向后移动两个字符\n",
    "                # 3. 字符串向后移动1个字符，模式不变\n",
    "                return self.match(s, pattern[2:]) or self.match(s[1:], pattern[2:]) or self.match(s[1:], pattern)\n",
    "            else:\n",
    "                return self.match(s, pattern[2:])\n",
    "            \n",
    "        #  当模式中的第二个字符不是 '*' 时     \n",
    "        else:\n",
    "            #  如果字符串第一个字符和模式的第一个字符匹配（相等或匹配到 '.' ）\n",
    "            if len(s)>0 and (s[0]==pattern[0] or pattern[0]=='.'):\n",
    "                return self.match(s[1:], pattern[1:])\n",
    "            #  如果字符串第一个字符和模式的第一个字符不匹配，直接返回False\n",
    "            else:\n",
    "                return False"
   ]
  }
 ],
 "metadata": {
  "kernelspec": {
   "display_name": "Python 3",
   "language": "python",
   "name": "python3"
  },
  "language_info": {
   "codemirror_mode": {
    "name": "ipython",
    "version": 3
   },
   "file_extension": ".py",
   "mimetype": "text/x-python",
   "name": "python",
   "nbconvert_exporter": "python",
   "pygments_lexer": "ipython3",
   "version": "3.6.4"
  }
 },
 "nbformat": 4,
 "nbformat_minor": 2
}
