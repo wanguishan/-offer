{
 "cells": [
  {
   "cell_type": "markdown",
   "metadata": {},
   "source": [
    "### 题目一：从上到下打印二叉树\n",
    "- 从上往下打印出二叉树的每个节点，同层节点从左至右打印。"
   ]
  },
  {
   "cell_type": "code",
   "execution_count": null,
   "metadata": {},
   "outputs": [],
   "source": [
    "# -*- coding:utf-8 -*-\n",
    "# class TreeNode:\n",
    "#     def __init__(self, x):\n",
    "#         self.val = x\n",
    "#         self.left = None\n",
    "#         self.right = None\n",
    "class Solution:\n",
    "    # 返回从上到下每个节点值列表，例：[1,2,3]\n",
    "    def PrintFromTopToBottom(self, root):\n",
    "        \"\"\"利用队列实现树的层次遍历\"\"\"     \n",
    "        if not root:\n",
    "            return []\n",
    "        queue = [root]\n",
    "        result = []\n",
    "        while queue:\n",
    "            node = queue.pop(0)\n",
    "            result.append(node.val)\n",
    "            if node.left:\n",
    "                queue.append(node.left)\n",
    "            if node.right:\n",
    "                queue.append(node.right)\n",
    "        return result\n",
    "        "
   ]
  },
  {
   "cell_type": "markdown",
   "metadata": {},
   "source": [
    "### 题目二：分行从上到下打印二叉树\n",
    "- 从上到下按层打印二叉树，同一层结点从左至右输出。每一层输出一行。"
   ]
  },
  {
   "cell_type": "code",
   "execution_count": null,
   "metadata": {},
   "outputs": [],
   "source": [
    "class TreeNode:\n",
    "    def __init__(self, x):\n",
    "        self.val = x\n",
    "        self.left = None\n",
    "        self.right = None\n",
    "        \n",
    "class Solution:\n",
    "    def Print(self, pRoot):    \n",
    "        if not pRoot:\n",
    "            return []\n",
    "        res = []\n",
    "        stack = [pRoot]\n",
    "        while stack:\n",
    "            res.append([node.val for node in stack])\n",
    "            tmp_stack = []\n",
    "            for node in stack:\n",
    "                if node.left:\n",
    "                    tmp_stack.append(node.left)\n",
    "                if node.right:\n",
    "                    tmp_stack.append(node.right)\n",
    "            stack = tmp_stack\n",
    "        return res"
   ]
  },
  {
   "cell_type": "markdown",
   "metadata": {},
   "source": [
    "### 题目三：按之字形顺序打印二叉树\n",
    "- 请实现一个函数按照之字形打印二叉树，即第一行按照从左到右的顺序打印，第二层按照从右至左的顺序打印，第三行按照从左到右的顺序打印，其他行以此类推。"
   ]
  },
  {
   "cell_type": "code",
   "execution_count": 2,
   "metadata": {
    "pycharm": {
     "is_executing": false
    }
   },
   "outputs": [],
   "source": [
    "class TreeNode:\n",
    "    def __init__(self, x):\n",
    "        self.val = x\n",
    "        self.left = None\n",
    "        self.right = None\n",
    "        \n",
    "class Solution:\n",
    "    def Print(self, pRoot):    \n",
    "        if not pRoot:\n",
    "            return []\n",
    "        res = []\n",
    "        stack = [pRoot]\n",
    "        sign = -1\n",
    "        while stack:\n",
    "            sign *= -1\n",
    "            res.append([node.val for node in stack[::sign]])\n",
    "            tmp_stack = []\n",
    "            for node in stack:\n",
    "                if node.left:\n",
    "                    tmp_stack.append(node.left)\n",
    "                if node.right:\n",
    "                    tmp_stack.append(node.right)\n",
    "            stack = tmp_stack\n",
    "        return res"
   ]
  }
 ],
 "metadata": {
  "kernelspec": {
   "display_name": "Python 3",
   "language": "python",
   "name": "python3"
  },
  "language_info": {
   "codemirror_mode": {
    "name": "ipython",
    "version": 3
   },
   "file_extension": ".py",
   "mimetype": "text/x-python",
   "name": "python",
   "nbconvert_exporter": "python",
   "pygments_lexer": "ipython3",
   "version": "3.6.4"
  }
 },
 "nbformat": 4,
 "nbformat_minor": 2
}