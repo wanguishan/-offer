{
 "cells": [
  {
   "cell_type": "markdown",
   "metadata": {},
   "source": [
    "- 输入一颗二叉树的跟节点和一个整数，打印出二叉树中结点值的和为输入整数的所有路径。路径定义为从树的根结点开始往下一直到叶结点所经过的结点形成一条路径。"
   ]
  },
  {
   "cell_type": "code",
   "execution_count": null,
   "metadata": {},
   "outputs": [],
   "source": [
    "# -*- coding:utf-8 -*-\n",
    "# class TreeNode:\n",
    "#     def __init__(self, x):\n",
    "#         self.val = x\n",
    "#         self.left = None\n",
    "#         self.right = None\n",
    "class Solution:\n",
    "    # 返回二维列表，内部每个列表表示找到的路径\n",
    "    def FindPath(self, root, expectNumber):\n",
    "        # write code herei\n",
    "        if not root:\n",
    "            return []\n",
    "        self.result = []\n",
    "        self.FindPathCore(root, [], currentNum)\n",
    "        \n",
    "    def FindPathCore(self, root, path, currentNum):\n",
    "        currentNum += root.val\n",
    "        path.append(root)\n",
    "        \n",
    "        flag = (root.left == None and root.right == None)        ## 判断是否到达叶子节点\n",
    "        if currentNum == expectNumber and flag:\n",
    "            onepath = []\n",
    "            for node in path:\n",
    "                onepath.append(node.val)\n",
    "            self.result.append(onepath)\n",
    "            \n",
    "        if currentNum < expectNumber:\n",
    "            if root.left:\n",
    "                self.FindPathCore(root.left, path, currentNum)\n",
    "            if root.right:\n",
    "                self.FindPathCore(root.right, path, currentNum)\n",
    "        path.pop()"
   ]
  }
 ],
 "metadata": {
  "kernelspec": {
   "display_name": "Python 3",
   "language": "python",
   "name": "python3"
  },
  "language_info": {
   "codemirror_mode": {
    "name": "ipython",
    "version": 3
   },
   "file_extension": ".py",
   "mimetype": "text/x-python",
   "name": "python",
   "nbconvert_exporter": "python",
   "pygments_lexer": "ipython3",
   "version": "3.6.4"
  }
 },
 "nbformat": 4,
 "nbformat_minor": 2
}
