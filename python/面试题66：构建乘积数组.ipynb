{
 "cells": [
  {
   "cell_type": "markdown",
   "metadata": {},
   "source": [
    "- 给定一个数组A[0,1,...,n-1],请构建一个数组B[0,1,...,n-1],其中B中的元素B[i]=A[0]*A[1]*...*A[i-1]*A[i+1]*...*A[n-1]。不能使用除法。"
   ]
  },
  {
   "cell_type": "code",
   "execution_count": 5,
   "metadata": {},
   "outputs": [],
   "source": [
    "class Solution:\n",
    "    def multiply(self, A):\n",
    "        \"\"\"时间复杂度O(n^2)\"\"\"\n",
    "        n = len(A)\n",
    "        B = []\n",
    "        for i in range(n):\n",
    "            b = 1\n",
    "            for j in range(n):\n",
    "                if i != j:\n",
    "                    b *= A[j]\n",
    "            B.append(b)\n",
    "        return B\n",
    "    \n",
    "    def multiply_2(self, A):    \n",
    "        \"\"\"时间复杂度O(n)\"\"\"\n",
    "        n = len(A)\n",
    "        B = [1] * n\n",
    "        BLeft = [1] * n\n",
    "        BRight = [1] * n\n",
    "        for i in range(1, n):\n",
    "            BLeft[i] = BLeft[i-1] * A[i-1]\n",
    "        for j in range(n-2, -1, -1):\n",
    "            BRight[j] = BRight[j+1] * A[j+1]\n",
    "            \n",
    "        for k in range(n):\n",
    "            B[k] = BLeft[k] * BRight[k]\n",
    "        return B\n",
    "    \n",
    "    def multiply_3(self, A):    \n",
    "        \"\"\"\n",
    "        上面算法的优化写法\n",
    "        时间复杂度O(n)\n",
    "        \"\"\"\n",
    "        n = len(A)\n",
    "        B = [1] * n\n",
    "        for i in range(1, n):\n",
    "            B[i] = B[i-1] * A[i-1]\n",
    "            \n",
    "        temp = 1\n",
    "        for j in range(n-2, -1, -1):\n",
    "            temp *= A[j+1]\n",
    "            B[j] *= temp\n",
    "        return B\n",
    "  "
   ]
  },
  {
   "cell_type": "code",
   "execution_count": 6,
   "metadata": {},
   "outputs": [
    {
     "name": "stdout",
     "output_type": "stream",
     "text": [
      "[120, 60, 40, 30, 24]\n"
     ]
    }
   ],
   "source": [
    "if __name__ == \"__main__\":\n",
    "    s = Solution()\n",
    "    print(s.multiply_3([1, 2, 3, 4, 5]))"
   ]
  }
 ],
 "metadata": {
  "kernelspec": {
   "display_name": "Python 3",
   "language": "python",
   "name": "python3"
  },
  "language_info": {
   "codemirror_mode": {
    "name": "ipython",
    "version": 3
   },
   "file_extension": ".py",
   "mimetype": "text/x-python",
   "name": "python",
   "nbconvert_exporter": "python",
   "pygments_lexer": "ipython3",
   "version": "3.6.4"
  }
 },
 "nbformat": 4,
 "nbformat_minor": 2
}
