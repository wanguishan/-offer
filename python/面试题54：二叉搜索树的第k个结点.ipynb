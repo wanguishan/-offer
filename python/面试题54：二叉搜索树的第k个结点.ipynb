{
 "cells": [
  {
   "cell_type": "markdown",
   "metadata": {},
   "source": [
    "- 给定一棵二叉搜索树，请找出其中的第k小的结点。\n",
    "\n",
    "例如，（5，3，7，2，4，6，8）中，按结点数值大小顺序第三小结点的值为4。"
   ]
  },
  {
   "cell_type": "code",
   "execution_count": 2,
   "metadata": {},
   "outputs": [],
   "source": [
    "# class TreeNode:\n",
    "#     def __init__(self, x):\n",
    "#         self.val = x\n",
    "#         self.left = None\n",
    "#         self.right = None\n",
    "class Solution:\n",
    "    # 返回对应节点TreeNode\n",
    "    def KthNode(self, pRoot, k):\n",
    "        i = 0\n",
    "        stack = []\n",
    "        while pRoot or stack:\n",
    "            if pRoot:\n",
    "                stack.append(pRoot)\n",
    "                pRoot = pRoot.left\n",
    "            else:\n",
    "                node = stack.pop()\n",
    "                i += 1\n",
    "                if i == k:\n",
    "                    return node\n",
    "                pRoot = node.right"
   ]
  }
 ],
 "metadata": {
  "kernelspec": {
   "display_name": "Python 3",
   "language": "python",
   "name": "python3"
  },
  "language_info": {
   "codemirror_mode": {
    "name": "ipython",
    "version": 3
   },
   "file_extension": ".py",
   "mimetype": "text/x-python",
   "name": "python",
   "nbconvert_exporter": "python",
   "pygments_lexer": "ipython3",
   "version": "3.6.4"
  }
 },
 "nbformat": 4,
 "nbformat_minor": 2
}
