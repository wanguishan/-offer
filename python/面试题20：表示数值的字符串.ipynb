{
 "cells": [
  {
   "cell_type": "markdown",
   "metadata": {},
   "source": [
    "- 请实现一个函数用来判断字符串是否表示数值（包括整数和小数）。例如，字符串\"+100\",\"5e2\",\"-123\",\"3.1416\"和\"-1E-16\"都表示数值。 但是\"12e\",\"1a3.14\",\"1.2.3\",\"+-5\"和\"12e+4.3\"都不是。"
   ]
  },
  {
   "cell_type": "code",
   "execution_count": 1,
   "metadata": {},
   "outputs": [],
   "source": [
    "# -*- coding:utf-8 -*-\n",
    "class Solution:\n",
    "    # s字符串\n",
    "    def isNumeric(self, s):\n",
    "        # write code here\n",
    "        try:\n",
    "            float_s = float(s)\n",
    "            return True\n",
    "        except:\n",
    "            return False"
   ]
  },
  {
   "cell_type": "code",
   "execution_count": null,
   "metadata": {},
   "outputs": [],
   "source": [
    "# -*- coding:utf-8 -*-\n",
    "class Solution:\n",
    "    # s字符串\n",
    "    def isNumeric(self, s):\n",
    "        # write code here\n",
    "        if not s:\n",
    "            return False\n",
    "        # 分别标记是否出现过正负号、小数点、e\n",
    "        has_e = False\n",
    "        has_sign = False\n",
    "        has_point = False\n",
    "        \n",
    "        for i in range(len(s)):\n",
    "            if s[i] in ['e', 'E']:\n",
    "                # 不能出现两个e\n",
    "                if has_e:\n",
    "                    return False\n",
    "                # e不能出现在最后面，因为e后面要接数字\n",
    "                else:\n",
    "                    has_e = True\n",
    "                    if i == len(s) -1:\n",
    "                        return False\n",
    "                    \n",
    "            elif s[i] in ['+', '-']:\n",
    "                # 如果前面已经出现过了符号位，那么这个符号位，必须是跟在e后面\n",
    "                if has_sign:\n",
    "                    if s[i-1] != 'e' and s[i-1] != 'E':\n",
    "                        return False\n",
    "                # 如果这是第一次出现符号位，而且出现的位置不是字符串第一个位置，那么就只能出现在e后面\n",
    "                else:\n",
    "                    has_sign = True\n",
    "                    if i>0 and s[i-1] != 'e' and s[i-1] != 'E':\n",
    "                        return False\n",
    "                    \n",
    "            elif s[i] == '.':\n",
    "                # 小数点不能出现两次；而且如果已经出现过e了，那么就不能再出现小数点，因为e后面只能是整数\n",
    "                if has_point or has_e:\n",
    "                    return False\n",
    "                # 如果是第一次出现小数点，如果前面出现过e，那么还是不能出现小数点\n",
    "                else:\n",
    "                    has_point = True\n",
    "                    if i>0 and s[i-1] == 'e' and s[i-1] == 'E':\n",
    "                        return False\n",
    "                    \n",
    "            else:\n",
    "                # 其他字符必须是‘0’到‘9’之间\n",
    "                if s[i] < '0' or s[i] > '9':    # if not s[i].isdigit():\n",
    "                    return False\n",
    "        return True"
   ]
  }
 ],
 "metadata": {
  "kernelspec": {
   "display_name": "Python 3",
   "language": "python",
   "name": "python3"
  },
  "language_info": {
   "codemirror_mode": {
    "name": "ipython",
    "version": 3
   },
   "file_extension": ".py",
   "mimetype": "text/x-python",
   "name": "python",
   "nbconvert_exporter": "python",
   "pygments_lexer": "ipython3",
   "version": "3.6.4"
  }
 },
 "nbformat": 4,
 "nbformat_minor": 2
}
