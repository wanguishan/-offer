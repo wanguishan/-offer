{
 "cells": [
  {
   "cell_type": "markdown",
   "metadata": {},
   "source": [
    "## 重建二叉树\n",
    "- 输入某二叉树的前序遍历和中序遍历的结果，重建出该二叉树。\n",
    "\n",
    "假设输入的前序遍历和中序遍历的结果中都不含重复的数字。\n",
    "\n",
    "例如输入前序遍历序列{1,2,4,7,3,5,6,8}和中序遍历序列{4,7,2,1,5,3,8,6}，则重建二叉树并返回它的头节点。\n"
   ]
  },
  {
   "cell_type": "code",
   "execution_count": 1,
   "metadata": {},
   "outputs": [],
   "source": [
    "class TreeNode:\n",
    "    \"\"\"\n",
    "    二叉树节点定义\n",
    "    \"\"\"\n",
    "    def __init__(self, x):\n",
    "        self.val = x\n",
    "        self.left = None\n",
    "        self.right = None"
   ]
  },
  {
   "cell_type": "code",
   "execution_count": 2,
   "metadata": {},
   "outputs": [],
   "source": [
    "class Solution():\n",
    "    def reConstructBinaryTree(self, pre, tin):\n",
    "        \"\"\"\n",
    "        递归实现\n",
    "        \"\"\"\n",
    "        if not pre or not tin:\n",
    "            return None\n",
    "\n",
    "        root = TreeNode(pre[0])\n",
    "        val = tin.index(pre[0])\n",
    "        \n",
    "        root.left = self.reConstructBinaryTree(pre[1:val+1], tin[:val])\n",
    "        root.right = self.reConstructBinaryTree(pre[val+1:], tin[val+1:])\n",
    "        return root\n",
    "    "
   ]
  }
 ],
 "metadata": {
  "kernelspec": {
   "display_name": "Python 3",
   "language": "python",
   "name": "python3"
  },
  "language_info": {
   "codemirror_mode": {
    "name": "ipython",
    "version": 3
   },
   "file_extension": ".py",
   "mimetype": "text/x-python",
   "name": "python",
   "nbconvert_exporter": "python",
   "pygments_lexer": "ipython3",
   "version": "3.6.4"
  }
 },
 "nbformat": 4,
 "nbformat_minor": 2
}
