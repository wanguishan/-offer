{
 "cells": [
  {
   "cell_type": "markdown",
   "metadata": {},
   "source": [
    "- 输入n个整数，找出其中最小的K个数。例如输入4,5,1,6,2,7,3,8这8个数字，则最小的4个数字是1,2,3,4。"
   ]
  },
  {
   "cell_type": "code",
   "execution_count": 10,
   "metadata": {},
   "outputs": [],
   "source": [
    "# -*- coding:utf-8 -*-\n",
    "class Solution:\n",
    "    def GetLeastNumbers_Solution(self, tinput, k):\n",
    "        # write code here\n",
    "        if not tinput or k <= 0 or k > len(tinput):\n",
    "            return\n",
    "        start = 0\n",
    "        end = len(tinput) - 1\n",
    "        index = self.Partition(tinput, start, end)\n",
    "        while index != k:\n",
    "            if index > k:\n",
    "                index = self.Partition(tinput, start, index - 1)\n",
    "            elif index < k:\n",
    "                index = self.Partition(tinput, index + 1, end)\n",
    "        return tinput[:k]        \n",
    "        \n",
    "    def Partition(self, array, start, end):\n",
    "        if end <= start:\n",
    "            return \n",
    "        base = array[start]\n",
    "        while start < end:\n",
    "            while start < end and array[end] >= base:\n",
    "                end -= 1\n",
    "            array[start] = array[end]\n",
    "            while start < end and array[start] <= base:\n",
    "                start += 1\n",
    "            array[end] = array[start]\n",
    "        array[start] = base\n",
    "        return start"
   ]
  },
  {
   "cell_type": "code",
   "execution_count": 12,
   "metadata": {},
   "outputs": [
    {
     "name": "stdout",
     "output_type": "stream",
     "text": [
      "[0, 1, 2, 3]\n"
     ]
    }
   ],
   "source": [
    "print(Solution().GetLeastNumbers_Solution([0,1,2,3,4,5,6,7,8,9], 4))"
   ]
  }
 ],
 "metadata": {
  "kernelspec": {
   "display_name": "Python 3",
   "language": "python",
   "name": "python3"
  },
  "language_info": {
   "codemirror_mode": {
    "name": "ipython",
    "version": 3
   },
   "file_extension": ".py",
   "mimetype": "text/x-python",
   "name": "python",
   "nbconvert_exporter": "python",
   "pygments_lexer": "ipython3",
   "version": "3.6.4"
  }
 },
 "nbformat": 4,
 "nbformat_minor": 2
}
