{
 "cells": [
  {
   "cell_type": "markdown",
   "metadata": {},
   "source": [
    "- 写一个函数，求两个整数之和，要求在函数体内不得使用+、-、*、/四则运算符号。"
   ]
  },
  {
   "cell_type": "code",
   "execution_count": null,
   "metadata": {},
   "outputs": [],
   "source": [
    "# -*- coding:utf-8 -*-\n",
    "class Solution:\n",
    "    def Add(self, num1, num2):\n",
    "        # write code here\n",
    "        while num2:\n",
    "            temp = num1 ^ num2                #不考虑进位，对每一位相加（异或）\n",
    "            carry = (num1 & num2) << 1     #考虑进位，两个数先做位与运算，然后左移一位\n",
    "            num1 = temp & 0xFFFFFFFF\n",
    "            num2 = carry\n",
    "        if num1 < 0x7FFFFFFF:\n",
    "            return num1\n",
    "        else:\n",
    "            return ~(num1 ^ 0xFFFFFFFF)"
   ]
  }
 ],
 "metadata": {
  "kernelspec": {
   "display_name": "Python 3",
   "language": "python",
   "name": "python3"
  },
  "language_info": {
   "codemirror_mode": {
    "name": "ipython",
    "version": 3
   },
   "file_extension": ".py",
   "mimetype": "text/x-python",
   "name": "python",
   "nbconvert_exporter": "python",
   "pygments_lexer": "ipython3",
   "version": "3.6.4"
  }
 },
 "nbformat": 4,
 "nbformat_minor": 2
}
