{
 "cells": [
  {
   "cell_type": "markdown",
   "metadata": {},
   "source": [
    "- 输入一个整数数组，判断该数组是不是某二叉搜索树的后序遍历的结果。如果是则输出Yes,否则输出No。假设输入的数组的任意两个数字都互不相同。"
   ]
  },
  {
   "cell_type": "code",
   "execution_count": 25,
   "metadata": {},
   "outputs": [],
   "source": [
    "# -*- coding:utf-8 -*-\n",
    "class Solution:\n",
    "    def VerifySquenceOfBST(self, sequence):\n",
    "        # write code here\n",
    "        if not sequence:\n",
    "            return False\n",
    "        root = sequence[-1]        \n",
    "        i = 0\n",
    "        while sequence[i] < root:\n",
    "            i += 1         \n",
    "        for j in range(i, len(sequence)-1):\n",
    "            if sequence[j] < root:\n",
    "                return False\n",
    "        left = right = True\n",
    "        ## 左子树存在时\n",
    "        if i > 0:\n",
    "            left = self.VerifySquenceOfBST(sequence[:i])\n",
    "        ## 右子树存在时    \n",
    "        if i < len(sequence)-1:\n",
    "            right = self.VerifySquenceOfBST(sequence[i:-1])\n",
    "        return left and right"
   ]
  },
  {
   "cell_type": "code",
   "execution_count": 26,
   "metadata": {},
   "outputs": [
    {
     "name": "stdout",
     "output_type": "stream",
     "text": [
      "True\n",
      "False\n"
     ]
    }
   ],
   "source": [
    "print(Solution().VerifySquenceOfBST([5,7,6,9,11,10,8]))\n",
    "print(Solution().VerifySquenceOfBST([7,4,6,5]))"
   ]
  }
 ],
 "metadata": {
  "kernelspec": {
   "display_name": "Python 3",
   "language": "python",
   "name": "python3"
  },
  "language_info": {
   "codemirror_mode": {
    "name": "ipython",
    "version": 3
   },
   "file_extension": ".py",
   "mimetype": "text/x-python",
   "name": "python",
   "nbconvert_exporter": "python",
   "pygments_lexer": "ipython3",
   "version": "3.6.4"
  }
 },
 "nbformat": 4,
 "nbformat_minor": 2
}
