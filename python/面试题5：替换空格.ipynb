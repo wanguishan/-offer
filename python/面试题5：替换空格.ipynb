{
 "cells": [
  {
   "cell_type": "markdown",
   "metadata": {},
   "source": [
    "## 替换空格\n",
    "- 实现一个函数，把字符串中的每个空格替换成\"%20\"。\n",
    "\n",
    "input: 'We are happy.'\n",
    "\n",
    "output: 'We%20are%20happy.'"
   ]
  },
  {
   "cell_type": "code",
   "execution_count": 1,
   "metadata": {},
   "outputs": [],
   "source": [
    "class Solution():    \n",
    "    \n",
    "    def __init__(self, sentence):\n",
    "        self.sentence = sentence\n",
    "    \n",
    "    def replaceSpace_1(self):\n",
    "        return self.sentence.replace(' ', '%20')\n",
    "    \n",
    "    def replaceSpace_2(self):\n",
    "        return '%20'.join(self.sentence.split(' '))\n",
    "        \n"
   ]
  },
  {
   "cell_type": "code",
   "execution_count": 3,
   "metadata": {},
   "outputs": [
    {
     "name": "stdout",
     "output_type": "stream",
     "text": [
      "We%20are%20happy.\n",
      "We%20are%20happy.\n"
     ]
    }
   ],
   "source": [
    "sentence = 'We are happy.'\n",
    "s= Solution(sentence)\n",
    "print(s.replaceSpace_1())\n",
    "print(s.replaceSpace_2())\n"
   ]
  },
  {
   "cell_type": "code",
   "execution_count": null,
   "metadata": {},
   "outputs": [],
   "source": []
  }
 ],
 "metadata": {
  "kernelspec": {
   "display_name": "Python 3",
   "language": "python",
   "name": "python3"
  },
  "language_info": {
   "codemirror_mode": {
    "name": "ipython",
    "version": 3
   },
   "file_extension": ".py",
   "mimetype": "text/x-python",
   "name": "python",
   "nbconvert_exporter": "python",
   "pygments_lexer": "ipython3",
   "version": "3.6.4"
  }
 },
 "nbformat": 4,
 "nbformat_minor": 2
}
