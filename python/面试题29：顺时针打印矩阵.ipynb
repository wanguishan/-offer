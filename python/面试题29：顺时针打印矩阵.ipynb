{
 "cells": [
  {
   "cell_type": "markdown",
   "metadata": {},
   "source": [
    "- 输入一个矩阵，按照从外向里以顺时针的顺序依次打印出每一个数字，例如，如果输入如下4 X 4矩阵： 1 2 3 4 5 6 7 8 9 10 11 12 13 14 15 16 则依次打印出数字1,2,3,4,8,12,16,15,14,13,9,5,6,7,11,10."
   ]
  },
  {
   "cell_type": "code",
   "execution_count": 1,
   "metadata": {},
   "outputs": [],
   "source": [
    "class Solution:\n",
    "    def printMatrix(self, matrix):\n",
    "        res = []\n",
    "        while matrix:\n",
    "            res += matrix.pop(0)\n",
    "            if matrix:\n",
    "                matrix = self.rotate(matrix)\n",
    "        return res\n",
    "    \n",
    "    def rotate(self, matrix):\n",
    "        # return list(zip(*matrix))[::-1]\n",
    "        res = []\n",
    "        for i in range(len(matrix[0])):\n",
    "            temp = []\n",
    "            for j in range(len(matrix)):\n",
    "                temp.append(matrix[j][i])\n",
    "            res.insert(0, temp)\n",
    "        return res"
   ]
  },
  {
   "cell_type": "code",
   "execution_count": null,
   "metadata": {},
   "outputs": [],
   "source": [
    "class Solution:\n",
    "    def printMatrix(self, matrix):\n",
    "        if not matrix:\n",
    "            return []\n",
    "        start=0\n",
    "        rows=len(matrix)\n",
    "        columns=len(matrix[0])\n",
    "        res=[]\n",
    "        while(columns>start*2 and rows>start*2):\n",
    "            self.printMatrixInCircle(matrix, columns, rows, start, res)\n",
    "            start += 1            \n",
    "        return res\n",
    "    \n",
    "    def printMatrixInCircle(self,matrix,columns,rows,start,res):\n",
    "        endX=columns-1-start\n",
    "        endY=rows-1-start\n",
    "        \n",
    "        # 从左到右打印一行\n",
    "        for i in range(start,endX+1):\n",
    "            res.append(matrix[start][i])\n",
    "        \n",
    "        # 从上到下打印一列\n",
    "        if start<endY:\n",
    "            for i in range(start+1,endY+1):\n",
    "                res.append(matrix[i][endX])\n",
    "                \n",
    "        # 从右到左打印一行\n",
    "        if start<endX and start<endY:\n",
    "            for i in range(endX-1,start-1,-1):\n",
    "                res.append(matrix[endY][i])\n",
    "                \n",
    "        # 从下到上打印一列\n",
    "        if start<endX and start<endY-1:\n",
    "            for i in range(endY-1,start,-1):\n",
    "                res.append(matrix[i][start])"
   ]
  }
 ],
 "metadata": {
  "kernelspec": {
   "display_name": "Python 3",
   "language": "python",
   "name": "python3"
  },
  "language_info": {
   "codemirror_mode": {
    "name": "ipython",
    "version": 3
   },
   "file_extension": ".py",
   "mimetype": "text/x-python",
   "name": "python",
   "nbconvert_exporter": "python",
   "pygments_lexer": "ipython3",
   "version": "3.6.4"
  }
 },
 "nbformat": 4,
 "nbformat_minor": 2
}
