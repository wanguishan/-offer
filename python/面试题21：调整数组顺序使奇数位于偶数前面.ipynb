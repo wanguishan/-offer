{
 "cells": [
  {
   "cell_type": "markdown",
   "metadata": {},
   "source": [
    "- 输入一个整数数组，实现一个函数来调整该数组中数字的顺序，使得所有的奇数位于数组的前半部分，所有的偶数位于数组的后半部分。"
   ]
  },
  {
   "cell_type": "code",
   "execution_count": 1,
   "metadata": {},
   "outputs": [],
   "source": [
    "class Solution:\n",
    "    def reOrderArray(self, array):\n",
    "        if array:\n",
    "            p1, p2 = 0, len(array) - 1\n",
    "            while p1 < p2:\n",
    "                while p1< p2 and array[p1] % 2 == 1:\n",
    "                    p1 += 1\n",
    "                while p1 < p2 and array[p2] % 2 == 0:\n",
    "                    p2 -= 1\n",
    "                if p1 < p2:\n",
    "                    array[p1], array[p2] = array[p2], array[p1]\n",
    "        return array"
   ]
  },
  {
   "cell_type": "code",
   "execution_count": 2,
   "metadata": {},
   "outputs": [
    {
     "name": "stdout",
     "output_type": "stream",
     "text": [
      "[1, 5, 3, 4, 2]\n"
     ]
    }
   ],
   "source": [
    "print(Solution().reOrderArray([1,2,3,4,5]))"
   ]
  },
  {
   "cell_type": "markdown",
   "metadata": {},
   "source": [
    "- 在上题的基础上，如果要求奇数和奇数，偶数和偶数之间的相对位置不变"
   ]
  },
  {
   "cell_type": "code",
   "execution_count": 3,
   "metadata": {},
   "outputs": [],
   "source": [
    "class Solution:\n",
    "    def reOrderArray(self, array):\n",
    "        if not array:\n",
    "            return []\n",
    "        oddArray = []\n",
    "        evenArray = []\n",
    "        for num in array:\n",
    "            if num % 2 == 1:\n",
    "                oddArray.append(num)\n",
    "            else:\n",
    "                evenArray.append(num)\n",
    "        return oddArray + evenArray"
   ]
  }
 ],
 "metadata": {
  "kernelspec": {
   "display_name": "Python 3",
   "language": "python",
   "name": "python3"
  },
  "language_info": {
   "codemirror_mode": {
    "name": "ipython",
    "version": 3
   },
   "file_extension": ".py",
   "mimetype": "text/x-python",
   "name": "python",
   "nbconvert_exporter": "python",
   "pygments_lexer": "ipython3",
   "version": "3.6.4"
  }
 },
 "nbformat": 4,
 "nbformat_minor": 2
}
