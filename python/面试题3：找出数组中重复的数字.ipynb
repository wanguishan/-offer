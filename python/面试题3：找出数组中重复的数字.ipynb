{
 "cells": [
  {
   "cell_type": "markdown",
   "metadata": {},
   "source": [
    "## 找出数组中重复的数字\n",
    "- 在一个长度为n的数组里的所有数字都在0到n-1的范围内。数组中某些数字是重复的，但不知道有几个数字是重复的，也不知道每个数字重复几次。请找出数组中任意一个重复的数字。\n",
    "\n",
    "input: 输入长度为7的数组[2, 3, 1, 0, 2, 5, 3]\n",
    "\n",
    "output: [2, 3]"
   ]
  },
  {
   "cell_type": "code",
   "execution_count": 1,
   "metadata": {
    "pycharm": {
     "is_executing": false
    }
   },
   "outputs": [],
   "source": [
    "def duplicate_1(numbers):\n",
    "    \"\"\"\n",
    "    解法一：先把输入数组排序，然后从排序后的数组中从前往后找\n",
    "    \"\"\"\n",
    "    if numbers == None or len(numbers) <= 1:\n",
    "        return False\n",
    "    for i in range(len(numbers)):\n",
    "        if numbers[i] < 0 or numbers[i] > len(numbers)-1:\n",
    "            return False\n",
    "\n",
    "    numbers.sort()\n",
    "    duplication = []\n",
    "    for i in range(len(numbers)-1):\n",
    "        if numbers[i] == numbers[i+1]:\n",
    "            duplication.append(numbers[i])\n",
    "    return duplication"
   ]
  },
  {
   "cell_type": "code",
   "execution_count": 2,
   "metadata": {},
   "outputs": [],
   "source": [
    "def duplicate_2(numbers):\n",
    "    \"\"\"\n",
    "    解法二：使用辅助空间:哈希表。时间复杂度为O(n)，空间复杂度为O(n)\n",
    "    \"\"\"\n",
    "    if numbers == None or len(numbers) <= 1:\n",
    "        return False\n",
    "    \n",
    "    usedDic = set()\n",
    "    duplication = []\n",
    "    for i in range(len(numbers)):\n",
    "        if not 0 <= numbers[i] <= len(numbers)-1:\n",
    "            return False\n",
    "        if numbers[i] not in usedDic:\n",
    "            usedDic.add(numbers[i])\n",
    "        else:\n",
    "            duplication.append(numbers[i])\n",
    "    return duplication"
   ]
  },
  {
   "cell_type": "code",
   "execution_count": 3,
   "metadata": {},
   "outputs": [],
   "source": [
    "def duplicate_3(numbers):\n",
    "    \"\"\"\n",
    "    解法三：重排数组。\n",
    "    从头到尾扫描数组的每个数字，当扫描到下标为i的数字时，首先比较这个\n",
    "    数字（假设为m）是否等于i,如果是，接着扫描下一个数字;如果不是，那么\n",
    "    再将它和下标为m的数字对比，如果两者不相等，就把它和第m个数字交换，\n",
    "    把m放到属于它的位置，如果两者相等，那么就找到了一个重复的数字。重\n",
    "    复这个过程，直到发现一个重复的数字。时间复杂度为O(n)，空间复杂度为O(1)\n",
    "    \"\"\"\n",
    "    if numbers == None or len(numbers) <= 1:\n",
    "        return False      \n",
    "    for i in range(len(numbers)):\n",
    "        if not 0 <= numbers[i] <= len(numbers)-1:\n",
    "            return False\n",
    "        \n",
    "    duplication = []             \n",
    "    for i, value in enumerate(numbers):\n",
    "        while value != i:\n",
    "            temp = numbers[value]\n",
    "            if value == numbers[value]:\n",
    "                duplication.append(value)\n",
    "                return duplication                \n",
    "            else:\n",
    "                numbers[value] = value\n",
    "                value = temp"
   ]
  },
  {
   "cell_type": "code",
   "execution_count": 2,
   "metadata": {
    "pycharm": {
     "is_executing": false
    }
   },
   "outputs": [
    {
     "name": "stdout",
     "text": [
      "[2, 3]\n"
     ],
     "output_type": "stream"
    },
    {
     "traceback": [
      "\u001b[1;31m---------------------------------------------------------------------------\u001b[0m",
      "\u001b[1;31mNameError\u001b[0m                                 Traceback (most recent call last)",
      "\u001b[1;32m<ipython-input-2-83e043a13967>\u001b[0m in \u001b[0;36m<module>\u001b[1;34m\u001b[0m\n\u001b[0;32m      1\u001b[0m \u001b[0mnums\u001b[0m \u001b[1;33m=\u001b[0m \u001b[1;33m[\u001b[0m\u001b[1;36m2\u001b[0m\u001b[1;33m,\u001b[0m \u001b[1;36m3\u001b[0m\u001b[1;33m,\u001b[0m \u001b[1;36m1\u001b[0m\u001b[1;33m,\u001b[0m \u001b[1;36m0\u001b[0m\u001b[1;33m,\u001b[0m \u001b[1;36m2\u001b[0m\u001b[1;33m,\u001b[0m \u001b[1;36m5\u001b[0m\u001b[1;33m,\u001b[0m \u001b[1;36m3\u001b[0m\u001b[1;33m]\u001b[0m\u001b[1;33m\u001b[0m\u001b[1;33m\u001b[0m\u001b[0m\n\u001b[0;32m      2\u001b[0m \u001b[0mprint\u001b[0m\u001b[1;33m(\u001b[0m\u001b[0mduplicate_1\u001b[0m\u001b[1;33m(\u001b[0m\u001b[0mnums\u001b[0m\u001b[1;33m)\u001b[0m\u001b[1;33m)\u001b[0m\u001b[1;33m\u001b[0m\u001b[1;33m\u001b[0m\u001b[0m\n\u001b[1;32m----> 3\u001b[1;33m \u001b[0mprint\u001b[0m\u001b[1;33m(\u001b[0m\u001b[0mduplicate_2\u001b[0m\u001b[1;33m(\u001b[0m\u001b[0mnums\u001b[0m\u001b[1;33m)\u001b[0m\u001b[1;33m)\u001b[0m\u001b[1;33m\u001b[0m\u001b[1;33m\u001b[0m\u001b[0m\n\u001b[0m\u001b[0;32m      4\u001b[0m \u001b[0mprint\u001b[0m\u001b[1;33m(\u001b[0m\u001b[0mduplicate_3\u001b[0m\u001b[1;33m(\u001b[0m\u001b[0mnums\u001b[0m\u001b[1;33m)\u001b[0m\u001b[1;33m)\u001b[0m\u001b[1;33m\u001b[0m\u001b[1;33m\u001b[0m\u001b[0m\n\u001b[0;32m      5\u001b[0m \u001b[1;33m\u001b[0m\u001b[0m\n",
      "\u001b[1;31mNameError\u001b[0m: name 'duplicate_2' is not defined"
     ],
     "ename": "NameError",
     "evalue": "name 'duplicate_2' is not defined",
     "output_type": "error"
    }
   ],
   "source": [
    "nums = [2, 3, 1, 0, 2, 5, 3]\n",
    "print(duplicate_1(nums))\n",
    "print(duplicate_2(nums))\n",
    "print(duplicate_3(nums))"
   ]
  },
  {
   "cell_type": "code",
   "execution_count": null,
   "metadata": {},
   "outputs": [],
   "source": []
  }
 ],
 "metadata": {
  "kernelspec": {
   "display_name": "Python 3",
   "language": "python",
   "name": "python3"
  },
  "language_info": {
   "codemirror_mode": {
    "name": "ipython",
    "version": 3
   },
   "file_extension": ".py",
   "mimetype": "text/x-python",
   "name": "python",
   "nbconvert_exporter": "python",
   "pygments_lexer": "ipython3",
   "version": "3.6.4"
  }
 },
 "nbformat": 4,
 "nbformat_minor": 2
}