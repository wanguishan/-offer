{
 "cells": [
  {
   "cell_type": "markdown",
   "metadata": {},
   "source": [
    "## 删除链表的节点\n",
    "- 在O(1)时间内删除链表节点。给定单向链表的头指针和一个节点指针，定义一个函数在O(1)时间内删除该节点。\n",
    "- 思路：我们要删除节点i , 先把i 的下一个节点j 的内容复制到i , 然后把i 的指针指向节点j 的下一个节点。此时再删除节点j ,其效果等同于把节点i 删除了。"
   ]
  },
  {
   "cell_type": "code",
   "execution_count": 3,
   "metadata": {},
   "outputs": [],
   "source": [
    "class ListNode():\n",
    "    def __init__(self, x):\n",
    "        self.val = x\n",
    "        self.next = None  \n",
    "        \n",
    "class Solution():\n",
    "    def deleteNode(self, headNode, delNode):\n",
    "        \"\"\"\n",
    "        删除单链表指定节点\n",
    "        \"\"\"\n",
    "        if not headNode or not delNode:\n",
    "            return\n",
    "        ## 要删除的节点不是尾节点\n",
    "        if delNode.next:\n",
    "            delNodeNext = delNode.next\n",
    "            delNode.val = delNodeNext.val\n",
    "            delNode.next = delNodeNext.next\n",
    "            \n",
    "        ## 只有一个节点，要删除头节点（也是尾节点）\n",
    "        elif delNode == headNode:\n",
    "            headNode = None\n",
    "            \n",
    "        ## 有多个节点，删除尾节点\n",
    "        else:\n",
    "            node = headNode\n",
    "            while node.next != delNode:\n",
    "                node = node.next\n",
    "            node.next = None"
   ]
  },
  {
   "cell_type": "markdown",
   "metadata": {},
   "source": [
    "## 删除链表中重复的节点"
   ]
  },
  {
   "cell_type": "code",
   "execution_count": null,
   "metadata": {},
   "outputs": [],
   "source": [
    "class ListNode():\n",
    "    def __init__(self, x):\n",
    "        self.val =x\n",
    "        self.next =None\n",
    "        \n",
    "class Solution():\n",
    "    def deleteDuplication(self, pHead):\n",
    "        ## 把所有节点的值放到一个列表中，再筛选出数量为1的值\n",
    "        temp = []\n",
    "        while pHead:\n",
    "            temp.append(pHead.val)\n",
    "            pHead = pHead.next\n",
    "        temp = list(filter(lambda x: temp.count(x)==1, temp))\n",
    "        \n",
    "        ## 将新的列表返回成链表的形式\n",
    "        newList = ListNode(0)    # 建立一个虚拟头节点\n",
    "        pre = newList        \n",
    "        for i in temp:\n",
    "            node = ListNode(i)\n",
    "            pre.next = node\n",
    "            pre = pre.next\n",
    "        return newList.next\n",
    "        \n",
    "        "
   ]
  },
  {
   "cell_type": "code",
   "execution_count": 4,
   "metadata": {},
   "outputs": [],
   "source": [
    "class Solution():\n",
    "    def deleteDuplication_recursion(self, pHead):\n",
    "        \"\"\"\n",
    "        递归\n",
    "        \"\"\"\n",
    "        head1 = pHead.next\n",
    "        if head1.val != pHead.val:\n",
    "            pHead.next = self.deleteDuplication_recursion(pHead.next)            \n",
    "        else:\n",
    "            while pHead.val ==head1.val and head1.next is not None:\n",
    "                head1 = head1.next\n",
    "            if head1.val != pHead.val:\n",
    "                pHead = self.deleteDuplication_recursion(head1)\n",
    "            else:\n",
    "                return None\n",
    "        return pHead\n",
    "        "
   ]
  }
 ],
 "metadata": {
  "kernelspec": {
   "display_name": "Python 3",
   "language": "python",
   "name": "python3"
  },
  "language_info": {
   "codemirror_mode": {
    "name": "ipython",
    "version": 3
   },
   "file_extension": ".py",
   "mimetype": "text/x-python",
   "name": "python",
   "nbconvert_exporter": "python",
   "pygments_lexer": "ipython3",
   "version": "3.6.4"
  }
 },
 "nbformat": 4,
 "nbformat_minor": 2
}
