{
 "cells": [
  {
   "cell_type": "markdown",
   "metadata": {},
   "source": [
    "## 二进制中1的个数\n",
    "- 输入一个整数，输出该数二进制表示中1的个数。\n",
    "\n",
    "例如：把9表示成二进制是1001，有2位是1。因此，如果输入9，则函数输出2。"
   ]
  },
  {
   "cell_type": "raw",
   "metadata": {},
   "source": [
    " 把一个整数减去1，再和原整数做位与运算，会把该整数最右边的1变成0。那么一个整数的\n",
    "二进制表示中有多少个1，就可以进行多少次这样的操作。        "
   ]
  },
  {
   "cell_type": "code",
   "execution_count": 1,
   "metadata": {},
   "outputs": [],
   "source": [
    "class Solution:\n",
    "    def NumberOf1(self, n):\n",
    "        count = 0\n",
    "        for i in range(32):\n",
    "            count += (n >> i) & 1    #依次将整数最低位、次低位……与1进行位与运算\n",
    "        return count\n",
    "    # return  sum([ ((n >> i) & 1) for i in xrange(32)])\n",
    "    \n",
    "    def NumberOf1_2(self, n):\n",
    "        if n >= 0:\n",
    "            return bin(n).count('1')\n",
    "        else:\n",
    "            #补码的运算：模加负数等于负数的补码\n",
    "            return bin(2**32 + n).count('1')\n",
    "        \n",
    "    def NumberOf1_3(self, n):\n",
    "        cnt = 0\n",
    "        if n < 0:\n",
    "            n = n&0x7FFFFFFF\n",
    "            cnt += 1\n",
    "        while n:\n",
    "            cnt += 1\n",
    "            n = (n-1) & n\n",
    "        return cnt"
   ]
  },
  {
   "cell_type": "code",
   "execution_count": 3,
   "metadata": {},
   "outputs": [
    {
     "name": "stdout",
     "output_type": "stream",
     "text": [
      "4\n",
      "4\n",
      "4\n"
     ]
    }
   ],
   "source": [
    "if __name__ =='__main__':\n",
    "    n = 15\n",
    "    print(Solution().NumberOf1(n))    \n",
    "    print(Solution().NumberOf1_2(n))    \n",
    "    print(Solution().NumberOf1_3(n))    "
   ]
  }
 ],
 "metadata": {
  "kernelspec": {
   "display_name": "Python 3",
   "language": "python",
   "name": "python3"
  },
  "language_info": {
   "codemirror_mode": {
    "name": "ipython",
    "version": 3
   },
   "file_extension": ".py",
   "mimetype": "text/x-python",
   "name": "python",
   "nbconvert_exporter": "python",
   "pygments_lexer": "ipython3",
   "version": "3.6.4"
  }
 },
 "nbformat": 4,
 "nbformat_minor": 2
}
