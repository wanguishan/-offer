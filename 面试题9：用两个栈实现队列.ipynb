{
 "cells": [
  {
   "cell_type": "markdown",
   "metadata": {},
   "source": [
    "## 用两个栈实现队列\n",
    "- 用两个栈来实现一个队列，完成队列的Push和Pop操作。 队列中的元素为int类型。"
   ]
  },
  {
   "cell_type": "raw",
   "metadata": {},
   "source": [
    "解题思路：\n",
    "有两个栈stackA,stackB，A为入栈，B为出栈。\n",
    "入栈时，直接进入A即可；\n",
    "出栈时，先判断B栈是否为空：\n",
    "如果不是空栈，直接pop()；如果是空栈，先将A中所有元素倒压在B里面，再pop()B中最上面（后面）的元素。"
   ]
  },
  {
   "cell_type": "code",
   "execution_count": 1,
   "metadata": {},
   "outputs": [],
   "source": [
    "class Solution:    \n",
    "    def __init__(self):\n",
    "        self.stackA = []\n",
    "        self.stackB = []\n",
    "        \n",
    "    def push(self, node):\n",
    "        self.stackA.append(node)\n",
    "        \n",
    "    def pop(self):\n",
    "        if self.stackB:\n",
    "            return self.stackB.pop()\n",
    "        elif not self.stackA:\n",
    "            return None\n",
    "        else:\n",
    "            while self.stackA:                          \n",
    "                 self.stackB.append(self.stackA.pop())\n",
    "            return self.stackB.pop()\n"
   ]
  },
  {
   "cell_type": "markdown",
   "metadata": {},
   "source": [
    "#### 拓展：用两个队列实现一个栈"
   ]
  },
  {
   "cell_type": "code",
   "execution_count": 2,
   "metadata": {},
   "outputs": [],
   "source": [
    "class Solution():\n",
    "    def __init__(self):\n",
    "        self.queueA = []\n",
    "        self.queueB = []\n",
    "        \n",
    "    def push(self, node):\n",
    "        self.queueA.insert(0, node)\n",
    "        \n",
    "    def pop(self):\n",
    "        if not self.queueA:\n",
    "            return None\n",
    "        while len(self.queueA) != 1:\n",
    "            self.queueB.insert(0, self.queueA.pop())\n",
    "        self.queueA, self.queueB = self.queueB, self.queueA\n",
    "        return self.queueB.pop()\n",
    "        "
   ]
  },
  {
   "cell_type": "code",
   "execution_count": 5,
   "metadata": {},
   "outputs": [
    {
     "name": "stdout",
     "output_type": "stream",
     "text": [
      "5\n",
      "3\n",
      "7\n",
      "1\n",
      "None\n"
     ]
    }
   ],
   "source": [
    "#测试\n",
    "if __name__ == '__main__':\n",
    "    a=Solution()\n",
    "    a.push(1)\n",
    "    a.push(7)\n",
    "    a.push(3)\n",
    "    a.push(5)\n",
    "    print(a.pop())\n",
    "    print(a.pop())\n",
    "    print(a.pop())\n",
    "    print(a.pop())\n",
    "    print(a.pop())"
   ]
  },
  {
   "cell_type": "code",
   "execution_count": null,
   "metadata": {},
   "outputs": [],
   "source": []
  }
 ],
 "metadata": {
  "kernelspec": {
   "display_name": "Python 3",
   "language": "python",
   "name": "python3"
  },
  "language_info": {
   "codemirror_mode": {
    "name": "ipython",
    "version": 3
   },
   "file_extension": ".py",
   "mimetype": "text/x-python",
   "name": "python",
   "nbconvert_exporter": "python",
   "pygments_lexer": "ipython3",
   "version": "3.6.4"
  }
 },
 "nbformat": 4,
 "nbformat_minor": 2
}
