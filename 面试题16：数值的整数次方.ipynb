{
 "cells": [
  {
   "cell_type": "markdown",
   "metadata": {},
   "source": [
    "- 给定一个double类型的浮点数base和int类型的整数exponent。求base的exponent次方。"
   ]
  },
  {
   "cell_type": "code",
   "execution_count": 73,
   "metadata": {},
   "outputs": [],
   "source": [
    "class Solution:\n",
    "    def Power(self, base, exponent):\n",
    "        if exponent >= 0:\n",
    "            res = self.PowerWithUnsiginedExponent(base, exponent)\n",
    "        else:\n",
    "            try:\n",
    "                res = 1 / self.PowerWithUnsiginedExponent(base, -exponent)\n",
    "            except:\n",
    "                res = None\n",
    "        return res    \n",
    "        \n",
    "    def PowerWithUnsiginedExponent(self, base, exponent):\n",
    "        if exponent == 0:\n",
    "            return 1\n",
    "        if exponent == 1:\n",
    "            return base\n",
    "        res = self.PowerWithUnsiginedExponent(base, exponent >> 1)\n",
    "        res *= res\n",
    "        if exponent & 1 == 1:\n",
    "            res *= base\n",
    "        return res"
   ]
  }
 ],
 "metadata": {
  "kernelspec": {
   "display_name": "Python 3",
   "language": "python",
   "name": "python3"
  },
  "language_info": {
   "codemirror_mode": {
    "name": "ipython",
    "version": 3
   },
   "file_extension": ".py",
   "mimetype": "text/x-python",
   "name": "python",
   "nbconvert_exporter": "python",
   "pygments_lexer": "ipython3",
   "version": "3.6.4"
  }
 },
 "nbformat": 4,
 "nbformat_minor": 2
}
